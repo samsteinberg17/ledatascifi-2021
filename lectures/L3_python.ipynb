{
 "cells": [
  {
   "cell_type": "markdown",
   "metadata": {
    "slideshow": {
     "slide_type": "notes"
    }
   },
   "source": [
    "For classes with mostly new coders, the python section alone will take >75 minutes. \n",
    "\n",
    "Here is how I used 2 days on this:\n",
    "\n",
    "Day 1: Got through try/pair/share and stopped before loops. \n",
    "\n",
    "Day 2:\n",
    "1. Answer Q&A. Tell them there is participation credit for offering website fixed. \n",
    "1. Give 3 HW tips: google \"csv pandas\", look for relative path in textbook, and check out functions\n",
    "1. Prof demo _only_ (students watch, prof sends code chunks for copy-paste at end):\n",
    "    - Loops syntax, understanding code flow\n",
    "    - Indents / If syntax\n",
    "    - Debug presentation\n",
    "1. Cover how to start and clone HW, deliverable expecations\n",
    "1. revisit performance of stocks from day one quiz\n",
    "1. poll on preferences for group coding during future classes (random or persistent groups)\n",
    "\n",
    "(I would \n",
    "\n",
    "---\n",
    "\n",
    "Final summary from notes:\n",
    "\n",
    "## Good ideas/summary\n",
    "\n",
    "1. Use comments to explain your code (what a single line or block of code is doing, what args a function can have, why you made certain choices, etc)\n",
    "1. Naming variables: USE GOOD ONES!\n",
    "1. TAB: will suggest autocompletions (eg possible functions)\n",
    "1. SHIFT-TAB: will describe function syntax\n",
    "1. Everything is an object in python\n",
    "1. Indentations matter! Indented lines belong to block above that isn't i indented\n",
    "1. Have a syntax error? Try to fix with google but after 15  minutes, ask a classmate! (Then the TA...\n",
    "1. LOOK AT YOUR DATA A LOT\n",
    "\n",
    "## Warnings\n",
    "\n",
    "- **DON'T USE IS:** `is` and `==` are NOT the same!!!\n",
    "- variables are pointers: don't use `b=a`, instead use `b = a.copy()`\n",
    "- Don't use `^` to take powers, use `**`"
   ]
  },
  {
   "cell_type": "markdown",
   "metadata": {
    "slideshow": {
     "slide_type": "slide"
    }
   },
   "source": [
    "## Hello everyone! Before class:\n",
    "1. In GH Desktop: Fetch/pull your class notes repo and the lecture repo.\n",
    "1. Copy the textbook file `/content/01/06_python.ipynb` to your `class notes/notes` folder\n",
    "3. In JLab: In the class notes repo, inside the \"notes\" subfolder, start a new file to save our notes from today\n",
    "4. Suggested: Snap those 2 files side-by-side in the JLab window\n",
    "\n",
    "Hopefully this goes better than Chrissy Teigen's experience with Py:\n",
    "\n",
    "![](https://media.giphy.com/media/zlXkHKnCXAe9a/giphy.gif)"
   ]
  },
  {
   "cell_type": "markdown",
   "metadata": {
    "slideshow": {
     "slide_type": "subslide"
    }
   },
   "source": [
    "## First things first\n",
    "\n",
    "The assignment will be posted ASAP. \n",
    "\n",
    "If you didn't receive a notification from GH tonight from my post on the classmates discussion board, please let me or the TA know immediately."
   ]
  },
  {
   "cell_type": "markdown",
   "metadata": {
    "slideshow": {
     "slide_type": "subslide"
    }
   },
   "source": [
    "## Outline\n",
    "\n",
    "1. Python essentials: Learning by doing\n",
    "    - Q: Feedback: Did anyone try and like any of the tutorial options?\n",
    "1. Debugging \n"
   ]
  },
  {
   "cell_type": "markdown",
   "metadata": {
    "slideshow": {
     "slide_type": "slide"
    }
   },
   "source": [
    "## Comments\n",
    "\n",
    "Remember to use comments! In fact, over use them in the beginning.\n",
    "\n",
    "They help you, future you, and others understand what \n",
    "- A particular line of code is doing\n",
    "- What blocks of code are doing\n",
    "- The idea behind why you wrote the code as you did (big picture)\n",
    "\n",
    "Else, you'll find yourself in this photo soon:"
   ]
  },
  {
   "cell_type": "markdown",
   "metadata": {
    "slideshow": {
     "slide_type": "subslide"
    }
   },
   "source": [
    "![](img/badcode2.jpg)"
   ]
  },
  {
   "cell_type": "markdown",
   "metadata": {
    "slideshow": {
     "slide_type": "slide"
    }
   },
   "source": [
    "## Guided discussion + practice\n",
    "We will run parts of the textbook file in our open notes file.\n",
    "1. Arithmetic --> 1 practice prob\n",
    "1. Logic/booleans \n",
    "    - booleans, operators: comparison, logic, membership\n",
    "    - for now: don't use `is` or `is not`! (let's make a cell for \"warnings\")\n",
    "    - complex logic gates\n",
    "1. Key lessons: Naming objects, `<TAB>` and `<SHIFT>+<TAB>`, pointers, Objects, \n",
    "1. Data structures: lists, tuple, dict, set (next slide), then practice\n",
    "    "
   ]
  },
  {
   "cell_type": "markdown",
   "metadata": {
    "slideshow": {
     "slide_type": "subslide"
    }
   },
   "source": [
    "### Built in data structures\n",
    "\n",
    "Listed from most commonly used to least:\n",
    "\n",
    "Type Name | \tExample |\tDescription\n",
    "--- | --- | ---\n",
    "list |\t[1, 2, 3] |\tOrdered collection\n",
    "dict | \t{'a':1, 'b':2, 'c':3} |\tUnordered (key,value) mapping\n",
    "set |\t{1, 2, 3} |\tUnordered collection of unique values\n",
    "tuple | \t(1, 2, 3) |\tImmutable ordered collection\n"
   ]
  },
  {
   "cell_type": "markdown",
   "metadata": {
    "slideshow": {
     "slide_type": "subslide"
    }
   },
   "source": [
    "### Lists:\n",
    "\n",
    "- Define with brackets: `L = [3, 1, 4, 15, 9]`"
   ]
  },
  {
   "cell_type": "markdown",
   "metadata": {
    "slideshow": {
     "slide_type": "fragment"
    }
   },
   "source": [
    "- \"Zero indexed\": `L[0]` returns 3,  `L[1]` returns 1"
   ]
  },
  {
   "cell_type": "markdown",
   "metadata": {
    "slideshow": {
     "slide_type": "fragment"
    }
   },
   "source": [
    "- Can access from the end: `L[-1]` returns 9,  `L[-2]` returns 15"
   ]
  },
  {
   "cell_type": "markdown",
   "metadata": {
    "slideshow": {
     "slide_type": "fragment"
    }
   },
   "source": [
    "- Lots of built in functions: len, sort, reversed, max, min, sum, count, append, extend,...\n",
    "    - Prof demo: Show the py reference in Jlab, search for \"data structures\"\n",
    "    - Prof demo: Find this outside JLab"
   ]
  },
  {
   "cell_type": "markdown",
   "metadata": {
    "slideshow": {
     "slide_type": "fragment"
    }
   },
   "source": [
    "- Can access \"slices\": `L[<start at index> : <go till index>]`\n",
    "    - `L[0:3]` and `L[:3]` return `[3,1,4]`\n",
    "    - `L[-3]` returns `[4,15,9]`"
   ]
  },
  {
   "cell_type": "markdown",
   "metadata": {
    "slideshow": {
     "slide_type": "subslide"
    }
   },
   "source": [
    "Now, let's all define this vector: `L=[8, 5, 6, 3, 7]`. \n",
    "\n",
    "**TRY, PAIR, SHARE: Write code that does the following. Discuss with the person next to you as needed:**\n",
    "1. Returns the length.\n",
    "1. Returns the largest element.\n",
    "1. Returns the smallest element.\n",
    "1. Returns the total of the vector.\n",
    "2. Returns the first element. See [this awesome answer](https://stackoverflow.com/questions/509211/understanding-slice-notation?rq=1) to learn about \"slicing\" lists in Python. If that link is dead: https://stackoverflow.com/questions/509211/understanding-slice-notation?rq=1 \n",
    "2. Returns the last element.\n",
    "2. Returns the first 2 elements.\n",
    "2. Returns the last 2 elements.\n",
    "2. Returns the odd numbered elements (i.e. [8,6,7].\n"
   ]
  },
  {
   "cell_type": "markdown",
   "metadata": {
    "slideshow": {
     "slide_type": "slide"
    }
   },
   "source": [
    "## Guided discussion + practice\n",
    "We will run parts of the textbook file in our open notes file.\n",
    "1. Arithmetic --> 1 practice prob\n",
    "1. Logic/booleans \n",
    "    - booleans, operators: comparison, logic, membership\n",
    "    - for now: don't use `is` or `is not`! (let's make a cell for \"warnings\")\n",
    "    - complex logic gates\n",
    "1. Key lessons: Naming objects, `<TAB>` and `<SHIFT>+<TAB>`, pointers, Objects, \n",
    "1. Data structures --> try, pair (3 people/room), share\n",
    "1. **Flow control syntax and thoughts: for loop (next slides), indentation, if-elif-else**\n",
    "    "
   ]
  },
  {
   "cell_type": "code",
   "execution_count": null,
   "metadata": {
    "slideshow": {
     "slide_type": "subslide"
    }
   },
   "outputs": [],
   "source": [
    "stonks = ['GME','AMC','BB','Bankrupt!']\n",
    "\n",
    "# syntax: for <element> in <iterable>:        \n",
    "# you must include the colon. \n",
    "# everything in the for loop must be indented\n",
    "# name the element something that makes sense (not generic!)!\n",
    "\n",
    "for stonk in stonks:\n",
    "    print(stonk)"
   ]
  },
  {
   "cell_type": "code",
   "execution_count": null,
   "metadata": {
    "slideshow": {
     "slide_type": "fragment"
    }
   },
   "outputs": [],
   "source": [
    "    print(stonk)"
   ]
  },
  {
   "cell_type": "code",
   "execution_count": null,
   "metadata": {
    "slideshow": {
     "slide_type": "subslide"
    }
   },
   "outputs": [],
   "source": [
    "# two common for-loop devices: \n",
    "# 1. looping over a range\n",
    "for i in range(7):\n",
    "    print i\n",
    "    "
   ]
  },
  {
   "cell_type": "code",
   "execution_count": null,
   "metadata": {
    "slideshow": {
     "slide_type": "fragment"
    }
   },
   "outputs": [],
   "source": [
    "# incrementing some calculation\n",
    "mynumbers = [2,4,8]\n",
    "tot = 0\n",
    "for num in mynumbers:\n",
    "    tot = tot + num\n",
    "print(tot)\n"
   ]
  },
  {
   "cell_type": "markdown",
   "metadata": {
    "slideshow": {
     "slide_type": "fragment"
    }
   },
   "source": [
    "Doesn't that seem silly?\n",
    "\n",
    "Q1: Isn't there a quicker way to compute that?\n",
    "\n",
    "Q2: Then why is that a useful construct? (answer on next slide)"
   ]
  },
  {
   "cell_type": "code",
   "execution_count": null,
   "metadata": {
    "slideshow": {
     "slide_type": "subslide"
    }
   },
   "outputs": [],
   "source": [
    "tot = 0\n",
    "for stonk in stonks:\n",
    "    price = get_price_of(stonk) # do some intermediate steps\n",
    "    tot = tot + price           # then increment!"
   ]
  },
  {
   "cell_type": "markdown",
   "metadata": {
    "slideshow": {
     "slide_type": "subslide"
    }
   },
   "source": [
    "### If, elif, else\n",
    "\n",
    "Syntax:\n",
    "\n",
    "```python \n",
    "if <condition #1>:                         # you must use the colon!\n",
    "     <do some stuff if condition is true>\n",
    "elif <condition #2>:                       # as in \"Else-If\"\n",
    "    <if condition #1 is false, and \n",
    "    condition #2 is true, run this block>\n",
    "else:\n",
    "    <if neither #1 or #2 are true, do this>\n",
    "```\n",
    "\n",
    "Comments:\n",
    "- You can include zero or as many `elif` code blocks as you want\n",
    "- You can omit the `else` block entirely\n",
    "- Whatever is in `<condition>` must evaluate to True or False or 1 or 0\n",
    "- See the **\"Logic and comparisons\"** section above on how Python evaluates conditions\n"
   ]
  },
  {
   "cell_type": "markdown",
   "metadata": {
    "slideshow": {
     "slide_type": "subslide"
    },
    "tags": [
     "popout"
    ]
   },
   "source": [
    "## PYTHON AND INDENTATION\n",
    "\n",
    "- Python has strong opinions about indentations\n",
    "- Indentations at the beginning of lines are not \"up to you\"\n",
    "- **Indentations indicate a \"block\" of code that is run as a unit.** (like the for loops above)\n",
    "\n",
    "Example on next slide, prof demo. "
   ]
  },
  {
   "cell_type": "code",
   "execution_count": null,
   "metadata": {
    "slideshow": {
     "slide_type": "subslide"
    },
    "tags": [
     "popout"
    ]
   },
   "outputs": [],
   "source": [
    "x = 7\n",
    "if x < 5:       # this is false, obviously,\n",
    "    z = x+2        # so this never runs and \n",
    "    print('I am not here.') # this doesn't print\n",
    "print('starting new block')\n",
    "if x < 5:       # this is false, obviously,\n",
    "    z = x+2        # so this never runs and \n",
    "print('I am here') # this does print"
   ]
  },
  {
   "cell_type": "markdown",
   "metadata": {
    "slideshow": {
     "slide_type": "subslide"
    }
   },
   "source": [
    "### Other notes in the textbook \n",
    "\n",
    "- `while`: We probably won't use while in this class. \n",
    "- `functions`: Useful!\n",
    "- A list of popular packages we will add to our code as the semester proceeds\n",
    "\n",
    "### TIPS:\n",
    "\n",
    "1. For each package we use, note the most common and useful functions, and copy \"cookbook\" uses of the packages which you can paste into new programs. \n",
    "    \n",
    "    Example: How to open a CSV file\n",
    "    \n",
    "2. _I do not personally, nor do many programmers, commit to memory many functions of many packages. We simply **know what can be done** and when needed, we search (tab completion/google/stack overflow) for the command/recipe for that function._\n"
   ]
  },
  {
   "cell_type": "markdown",
   "metadata": {
    "slideshow": {
     "slide_type": "slide"
    }
   },
   "source": [
    "# BREAK!\n",
    "\n",
    "![](https://media.giphy.com/media/RiWZUGcZPEKdQgrQ96/source.gif)\n",
    "\n",
    "Now we move on to the second section of class... \"debugging\""
   ]
  },
  {
   "cell_type": "markdown",
   "metadata": {
    "slideshow": {
     "slide_type": "slide"
    }
   },
   "source": [
    "## Tips for fixing and avoiding errors \n",
    "\n",
    "Computers are extremely powerful but incredibly stupid. We want to both\n",
    "- Fix bugs when they happen\n",
    "- Prevent them from happening!\n",
    "\n",
    "Bugs can be syntax or other errors that break the code. \n",
    "\n",
    "The worst bugs are the type that let your code keep \"working\". Just lurking there, ruining your work...\n",
    "\n",
    "![](https://media.giphy.com/media/3ov9k9kmfD1b80NJ2o/source.gif)"
   ]
  },
  {
   "cell_type": "markdown",
   "metadata": {
    "slideshow": {
     "slide_type": "subslide"
    }
   },
   "source": [
    "### To fix bugs, you need to \n",
    "1. Realize that you have a bug \n",
    "3. Figure out where it is\n",
    "2. Make it repeatable (and you'll understand the bug)\n",
    "4. Fix it (duh) and test it (the existence of the bug should disabuse you of your coding invincibility!)\n",
    "\n",
    "1 and 2 are easy with syntax errors - python will tell you. "
   ]
  },
  {
   "cell_type": "markdown",
   "metadata": {
    "slideshow": {
     "slide_type": "subslide"
    }
   },
   "source": [
    "_**Advice that could save (or cost) you thousands:**_ Those steps are general, and work for other things besides code, like  plumbing and electrical work on your parent's house.\n",
    "\n",
    "1. Read the error codes! Then google them. Then ask your @classmates. \n",
    "    - REMINDER: the 15 minute rule\n",
    "2. `%debug` - [Covered in nice detail here](https://jakevdp.github.io/PythonDataScienceHandbook/01.06-errors-and-debugging.html#Debugging:-When-Reading-Tracebacks-Is-Not-Enough).\n",
    "3. Hunt the bug: Flipping switches / divide and conquer (next slide)"
   ]
  },
  {
   "cell_type": "markdown",
   "metadata": {
    "slideshow": {
     "slide_type": "subslide"
    }
   },
   "source": [
    "![](https://media.giphy.com/media/dbtDDSvWErdf2/giphy.gif) "
   ]
  },
  {
   "cell_type": "markdown",
   "metadata": {
    "slideshow": {
     "slide_type": "subslide"
    }
   },
   "source": [
    "![](https://media.giphy.com/media/Oe4V14aLzv7JC/giphy.gif)"
   ]
  },
  {
   "cell_type": "markdown",
   "metadata": {
    "slideshow": {
     "slide_type": "subslide"
    }
   },
   "source": [
    "After slaving over your computer and a piece of paper (you smartly planned out your code before you went in head first), you've found a clever solution to your problem. Your code is beautiful and elegant, like this:\n",
    "\n",
    "```py\n",
    "2+2 # imagine this is a bunch of code\n",
    "2+2 # imagine this is a bunch of code\n",
    "2+2 # imagine this is a bunch of code\n",
    "Error # somewhere in the code is an error. But in real programming you don’t know the error is here!\n",
    "2+2 # imagine this is a bunch of code\n",
    "2+2 # imagine this is a bunch of code\n",
    "```\n",
    "\n",
    "Let's turn parts of your code off:\n"
   ]
  },
  {
   "cell_type": "markdown",
   "metadata": {
    "slideshow": {
     "slide_type": "subslide"
    }
   },
   "source": [
    "You can just comment out parts of the code\n",
    "```py\n",
    "2+2 # imagine this is a bunch of code\n",
    "2+2 # imagine this is a bunch of code\n",
    "# 2+2 # imagine this is a bunch of code\n",
    "# Error # somewhere in the code is an error. But in real programming you don’t know the error is here!\n",
    "# 2+2 # imagine this is a bunch of code\n",
    "# 2+2 # imagine this is a bunch of code\n",
    "```\n",
    "\n",
    "Well, this would work, so you know the error is in the lines you hid."
   ]
  },
  {
   "cell_type": "markdown",
   "metadata": {
    "slideshow": {
     "slide_type": "slide"
    }
   },
   "source": [
    "# But what about the bugs that let your code keep \"working\"?"
   ]
  },
  {
   "cell_type": "markdown",
   "metadata": {
    "slideshow": {
     "slide_type": "fragment"
    }
   },
   "source": [
    "These are usually often due to either \n",
    "- planning errors (you thought you could do A->B->C, but C is impossible after B)\n",
    "- **Or because you did something that didn't do exactly what you thought**\n",
    "\n",
    "The latter happens a TON with big data projects, and we will talk about techniques to reduce such errors. "
   ]
  },
  {
   "cell_type": "markdown",
   "metadata": {
    "slideshow": {
     "slide_type": "fragment"
    }
   },
   "source": [
    "But I have **ONE BIG, WEIRD TRICK** and let me tell, you, BUGS HATE IT:"
   ]
  },
  {
   "cell_type": "markdown",
   "metadata": {
    "slideshow": {
     "slide_type": "fragment"
    }
   },
   "source": [
    "\n",
    "# Look at your data and objects OFTEN! Print, print, print!"
   ]
  },
  {
   "cell_type": "markdown",
   "metadata": {
    "slideshow": {
     "slide_type": "subslide"
    }
   },
   "source": [
    "Seriously...\n",
    "\n",
    "# Look at your data and objects OFTEN! Print, print, print!\n",
    "\n",
    "This isn't even a \"debugging\" point per se.\n",
    "- You know a 6 is a 6.\n",
    "- In big datasets, it's easy to make rather large changes without knowing exactly what you have done, ... or not done ... , if you don't see into the object. \n",
    "- Are you sure that object is exactly what you think it is, containing exactly what you think it does? Thus, the `print` statement and other ways of \"glancing into\" datasets are crucial. Even when you've all become pythonic pros, you should tend towards examining your objects \"too much\". "
   ]
  },
  {
   "cell_type": "markdown",
   "metadata": {
    "slideshow": {
     "slide_type": "subslide"
    },
    "tags": [
     "popout"
    ]
   },
   "source": [
    "Options to look at datasets:\n",
    "\n",
    "1. Print parts of it in Jupyter, along with many summary stats. \n",
    "2. Output to a csv file and open in Excel.\n",
    "3. Use the `spyder` program that came with Anaconda. \n",
    "4. There is a \"variable\" explorer extension for JLab that lets you click and see objects. \n"
   ]
  },
  {
   "cell_type": "markdown",
   "metadata": {
    "slideshow": {
     "slide_type": "subslide"
    }
   },
   "source": [
    "## Are you still stuck?\n",
    "\n",
    "It'll happen! We will try to build some ambitious code this semester! \n",
    "\n",
    "So if you've tried the above, what can you do? \n",
    "- Writing smart code will save us from getting into intractable problems. More on that next class. \n",
    "- Again, see the resources tab of our website!\n",
    "- Finally, the resources tab also suggests that clearing your head and [getting a mental break might be a good idea](https://media.giphy.com/media/h6cFYO8miNhok/giphy.gif)."
   ]
  },
  {
   "cell_type": "markdown",
   "metadata": {
    "slideshow": {
     "slide_type": "subslide"
    }
   },
   "source": [
    "## Summary \n",
    "\n",
    "- We covered some basic python coding together today. Going forward, it's headfirst into the breach. (?)\n",
    "- You can figure out syntax issues, but use the 15 minute rule\n",
    "- Get exposure to possible functions and algorithms to solve different problems via the resources and youtube videos\n",
    "- LOOK AT YOUR DATA AND OBJECTS A LOT!\n",
    "\n",
    "![](https://media.giphy.com/media/H7x1H0veAJlo4/giphy.gif)\n"
   ]
  },
  {
   "cell_type": "markdown",
   "metadata": {
    "slideshow": {
     "slide_type": "subslide"
    }
   },
   "source": [
    "## Shutting down \n",
    "\n",
    "And at the end of each class, \n",
    "- Restart your kernal and rerun your code\n",
    "- save all open code files, \n",
    "- close JLab (and the terminal running it)\n",
    "- commit and push your Class Notes repo\n",
    "- open the GitHub.com version of the repo\n",
    "\n"
   ]
  }
 ],
 "metadata": {
  "celltoolbar": "Tags",
  "kernelspec": {
   "display_name": "Python 3",
   "language": "python",
   "name": "python3"
  },
  "language_info": {
   "codemirror_mode": {
    "name": "ipython",
    "version": 3
   },
   "file_extension": ".py",
   "mimetype": "text/x-python",
   "name": "python",
   "nbconvert_exporter": "python",
   "pygments_lexer": "ipython3",
   "version": "3.8.5"
  }
 },
 "nbformat": 4,
 "nbformat_minor": 4
}
