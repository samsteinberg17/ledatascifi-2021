{
 "cells": [
  {
   "cell_type": "markdown",
   "metadata": {},
   "source": [
    "# How to refer to files\n",
    "\n",
    "## File references should work on any computer!\n",
    "\n",
    "If any of the code loads a file by loading `C:\\Users\\DonBowen\\Desktop\\Death_is_Which_Way\\build\\input\\got1.txt`, then that code will not work on your computer, or if I move my folder within my own computer! \n",
    "\n",
    "That long file path is called an **\"absolute path\"**. No matter where you put your code, it will look for a file with that entire path.\n",
    "\n",
    "Instead, use **relative file paths**, which only tells your code where to look _relative_ to the current folder. So, _now_, `clean_data.py` loads `..\\input\\got1.txt`. The `..\\` tells it to look \"one level up\", then inside the input folder.\n",
    "\n",
    "_(Aside: You can go up two levels with `..\\..\\` and so on...)_\n",
    "\n",
    "If you use relative paths, your code _can_ work on anyone's computer. This is kind of the point!"
   ]
  },
  {
   "cell_type": "markdown",
   "metadata": {},
   "source": [
    "## Credits\n",
    "\n",
    "- This chapter leans heavily on the wonderful [Code and Data for the Social Sciences: A Practitioner's Guide](https://web.stanford.edu/~gentzkow/research/CodeAndData.xhtml#magicparlabel-39) by  Matthew Gentzkow and Jesse M. Shapiro1.\n",
    "\n",
    "---\n",
    "\n",
    "## How was this chapter?\n",
    "\n",
    "Hopefully, not like this\n",
    "\n",
    "![](https://media.giphy.com/media/u9VVqE8gLEYmc/source.gif)\n",
    "\n",
    "Anyways, please use this form for the whole chapter. (I didn't want to put this on every single page.)\n",
    "\n",
    "<iframe src=\"https://docs.google.com/forms/d/e/1FAIpQLScLgqMhkNZHFJdeew7q2aAk5crzNdMss_NZ4vC4LKluUuo_pg/viewform?embedded=true\" width=\"640\" height=\"925\" frameborder=\"0\" marginheight=\"0\" marginwidth=\"0\">Loading…</iframe>\n"
   ]
  }
 ],
 "metadata": {
  "kernelspec": {
   "display_name": "Python 3",
   "language": "python",
   "name": "python3"
  },
  "language_info": {
   "codemirror_mode": {
    "name": "ipython",
    "version": 3
   },
   "file_extension": ".py",
   "mimetype": "text/x-python",
   "name": "python",
   "nbconvert_exporter": "python",
   "pygments_lexer": "ipython3",
   "version": "3.8.5"
  }
 },
 "nbformat": 4,
 "nbformat_minor": 4
}
