{
 "cells": [
  {
   "cell_type": "markdown",
   "metadata": {},
   "source": [
    "## THE GOLDEN RULES \n",
    "\n",
    "| **Category** | **Rule**  |\n",
    "| :--- | :--- |\n",
    "| 0. **PLAN BEFORE YOU CODE** | A. \"Pseudo code\" is writing out the broad steps in plain language. I often (almost always for complicated tasks) do this on paper, then translate it to code as an outline (in the code's comments). <br> <br> Maybe planning sounds boring and like a waste of time. I get it; I also want to [shoot first](https://youtu.be/la7uuFsCIrg?t=43) like [Han did...](https://youtu.be/93pXrmCdlI0?t=26)  but coders like Han often [end up looking like this guy](https://youtu.be/mLyOj_QD4a4?t=67)... |\n",
    "| | B. Break the problem into chunks/smaller problems. This dovetails with rule 5.B below nicely. |\n",
    "| 1. Automation | A. Automate everything that can be automated, don't do point-and-click analysis! |\n",
    "| | B. Write a single script that executes all code from beginning to end |\n",
    "| 2. Version control | A. Store code and data under version control.  |\n",
    "| | B. **Before checking the directory back in, clear all outputs and temp files and then run the whole directory!** (Check: Did it work right?)   |\n",
    "| 3.  [Directories/folders](10_Golden_6) | A. Separate directories/folders by function |\n",
    "| | B. Put input files into an input folder and outputs into a different one |\n",
    "| | A + B = your folders and files will be largely self documenting |\n",
    "| | C. Make directories portable - they should run on any computer, or if you move them to another place on your computer |\n",
    "| | D [**Use RELATIVE FILE PATHS, not absolute file paths**](10_Golden_7)   |\n",
    "| 4. Keys / Units | A. Store cleaned data in tables with unique, non-missing \"keys\" |\n",
    "| | B. Keep data [**normalized**](10_Golden_4) as far into your code pipeline as you can |\n",
    "| 5. Abstraction - fncs/classes | A. Abstract to eliminate redundancy |\n",
    "| | B. Abstract to improve clarity |\n",
    "| | C. Otherwise, don't abstract |\n",
    "| | D. **Unit test your functions!** |\n",
    "| | E. Don't use magic numbers, define once as variables and refer as needed |\n",
    "| 6. Documentation | A. Is good... to a point |\n",
    "| | B. Don't write documentation you will not maintain |\n",
    "| | C. Code is better off when it is self-documenting |\n",
    "| 7. Look at your data/objects | As discussed [here](../01/07_debugging.html#seriously-print-your-data-and-objects-often) |\n"
   ]
  }
 ],
 "metadata": {
  "kernelspec": {
   "display_name": "Python 3",
   "language": "python",
   "name": "python3"
  },
  "language_info": {
   "codemirror_mode": {
    "name": "ipython",
    "version": 3
   },
   "file_extension": ".py",
   "mimetype": "text/x-python",
   "name": "python",
   "nbconvert_exporter": "python",
   "pygments_lexer": "ipython3",
   "version": "3.8.5"
  }
 },
 "nbformat": 4,
 "nbformat_minor": 4
}
