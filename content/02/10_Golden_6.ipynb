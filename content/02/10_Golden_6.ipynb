{
 "cells": [
  {
   "cell_type": "markdown",
   "metadata": {},
   "source": [
    "# Applying the golden rules to our bda project folder\n",
    "\n",
    "Let's apply those rules to our cursed analysis of character death in Game of Thrones and see if this makes the project easier to replicate (in terms of accuracy and time required).\n",
    "\n",
    "_(Note, there are other ways to efficiently divide up analysis than what I propose here that have merit! Do not take this **exact** scheme as \"gospel\".)_\n",
    "\n",
    "## Folders separated by function - part 1\n",
    "\n",
    "I’ve split the project into two sub-directories: \"build\" (whose function is to build the sample from the raw data inputs) and \"analysis\". These are two-sub tasks of any data project, and here, I've chosen to treat them as different functions and thus they get different folders (**Rule 3.A**).\n",
    "\n",
    "![](img/dir-top.png)\n",
    " \n",
    "## Folders separated by function - part 2\n",
    " \n",
    "The build folder takes \"inputs\", which are processed by files inside \"code\", and places the analysis sample (now explicitly created!) in \"output\". Notice the inputs and outputs are clearly separated! (**Rule 3.B**) Temp files are created along the way, but are not \"output\".\n",
    "\n",
    "![](img/dir-build.png)\n",
    "\n",
    "**Also, notice the new file `run_directory.py`.** It very quickly and plainly documents how to run the entire code in the \"build\" project (**Rule 1.B**), and makes it easy to do so every time (**Rule 2.B**) before you push it back to the master repo on GitHub (**Rule 2.A**). `run_directory.py` is so simple, it is self-documenting (**Rule 6.C**).\n",
    "\n",
    "```\n",
    "# to create DataSample.csv:\n",
    "clean_slate() # deletes all temp files and all output files\n",
    "execfile(clean_data.py)\n",
    "execfile(merge_data.py)\n",
    "execfile(export_data.py) \n",
    "```"
   ]
  }
 ],
 "metadata": {
  "kernelspec": {
   "display_name": "Python 3",
   "language": "python",
   "name": "python3"
  },
  "language_info": {
   "codemirror_mode": {
    "name": "ipython",
    "version": 3
   },
   "file_extension": ".py",
   "mimetype": "text/x-python",
   "name": "python",
   "nbconvert_exporter": "python",
   "pygments_lexer": "ipython3",
   "version": "3.8.5"
  }
 },
 "nbformat": 4,
 "nbformat_minor": 4
}
