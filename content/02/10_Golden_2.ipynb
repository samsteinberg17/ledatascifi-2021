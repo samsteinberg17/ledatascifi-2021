{
 "cells": [
  {
   "cell_type": "markdown",
   "metadata": {},
   "source": [
    "## A case study in bad research\n",
    "\n",
    "We start with an absolutely essential question: **Are characters in Game of Thrones more likely to die when they head north or south?**\n",
    "\n",
    "### One folder: A \"common\" data science project\n",
    "\n",
    "So I collected the text of the Game of Thrones books (currently 5, COME ON GEORGE). I _also_ collected data on the names of characters so I can identify them in the text. I _also_ collected data that maps the names of places to latitudes on the map. I have just about everything I need. I put these files in a folder, write some code to deal with data, and some code to produce output. \n",
    "\n",
    "_There were definitely intermediate steps, but I don't remember exactly._ Luckily, this project wasn't \"interactive, point-and-click in Excel\" analysis. It was written in code! So it's oooooobviously reproducible. \n",
    "\n",
    "Let's all look at the folder and try to figure it out? **What do you think each file is, and how is the analysis conducted  from data-to-draft?**\n",
    "\n",
    "![](img/bad-directory.png)\n",
    "\n",
    "And no, this isn't a joke - I've definitely seen \"professional\" researchers with project organized like this in one way or another.\n",
    "\n",
    "### What are the possible issues with this?\n",
    "\n",
    "1. Which data file(s) are the real input?\n",
    "2. Do we run `clean_data.py` or `merge_data.py` first to build the analysis sample?\n",
    "3. Do we run `figures.py` or `regressions.py` first?\n",
    "4. Wait, maybe it's actually `regressions_Don.py` that we should run!\n",
    "4. Clearly, `regression_output.txt` comes from `regressions.py` (I hope!) and `regression_output_Don.txt` comes from `regressions_Don.py`.... But where on Earth did `regression_output2.txt` get conjured from?\n",
    "6. Speaking of mysteries, where the %^#! did `tables_for_paper.txt` come from? No python file mentions tables!\n",
    "7. Oh god, I just noticed two location files. I guess they are from different sources... but which is used by which files?\n",
    "\n",
    "So, let's see if we can't improve this whole situation."
   ]
  }
 ],
 "metadata": {
  "kernelspec": {
   "display_name": "Python 3",
   "language": "python",
   "name": "python3"
  },
  "language_info": {
   "codemirror_mode": {
    "name": "ipython",
    "version": 3
   },
   "file_extension": ".py",
   "mimetype": "text/x-python",
   "name": "python",
   "nbconvert_exporter": "python",
   "pygments_lexer": "ipython3",
   "version": "3.8.5"
  }
 },
 "nbformat": 4,
 "nbformat_minor": 4
}
