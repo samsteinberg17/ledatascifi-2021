{
 "cells": [
  {
   "cell_type": "markdown",
   "metadata": {},
   "source": [
    "# Digging into Py(thon)\n",
    "\n",
    "Hopefully this goes better than Chrissy Teigen's experience:\n",
    "\n",
    "![](https://media.giphy.com/media/zlXkHKnCXAe9a/giphy.gif)\n",
    "\n",
    "## Tutorials\n",
    "\n",
    "You can't learn programmatic material during class sessions, try though I might to make it possible. You can only learn through practice. You should be checking out tutorials and lessons online in your free time. \n",
    "\n",
    "Two great options:\n",
    "- Codeacademy is great. You can probably blast through the key lessons before a free trial expires (currently=7 days). \n",
    "- Go through #3 to #14 of [A Whirlwind Tour of Python](https://github.com/jakevdp/WhirlwindTourOfPython).\n",
    "\n",
    "As you follow either of those, I would put the code you write inside the `/codebook/` folder inside your Class Notes repo. \n",
    "- You can call the file(s) whatever you want. (If you want a suggestion for a filename, \"Cheatsheet\", \"Whirlwind Cheatsheet\", or \"Codeacademy Cheatsheet\" make sense.)\n",
    "- Our [resources page](../about/resources) has a python cheatsheet you can download. \n",
    "\n",
    "Do you prefer to learn through games?\n",
    "- (That's how I learned python! I built solvers for Sudoku and the Cracker Barrel golf tee game... Both taught me a LOT about programming in python, problem solving strategies, and data structures.) \n",
    "- [Edabit](https://edabit.com/) has a bunch of games. If you log in, you can search for python challenges that take from 1 minute to ... longer... For example, [the Museum of Dull Things](https://edabit.com/challenge/cx7eFvQBzjauLgwgZ). If you find any games illuminating, please let me know via the class discussions repo!"
   ]
  },
  {
   "cell_type": "markdown",
   "metadata": {},
   "source": [
    "## Python essentials \n",
    "\n",
    "Ok, now we are going to live code a bunch together. I want you to get comfortable typing commands yourself rather than copy-pasting. This is slightly more painful in the beginning, but much better payoff in the long-run.\n",
    "\n",
    "```{tip}\n",
    "Copy all of these code blocks to your own notebook file inside your notes folder and try to run them. Make sure Jupyter Lab calls the cells \"code\" cells instead of markdown cells, and then use <kbd> CTRL </kbd> + <kbd> ENTER </kbd> to run them.\n",
    "\n",
    "**HINT:** You can copy _code_ cells on this website by clicking the \"copy\" symbol in the upper-right corner of code blocks. If you want to copy chunks of files that includes sections of Markdown, watch [this video](content:chunkcopy).\n",
    "\n",
    "```\n",
    "\n",
    "### Comments\n",
    "\n",
    "In python code blocks, the \"#\" character tells python to ignore the rest of the line. \n",
    "\n",
    "**Leaving GOOD comments in the code is important!** [Good, smart code](https://web.stanford.edu/~gentzkow/research/CodeAndData.xhtml#magicparlabel-1130) tries to reduce the use of comments by writing code so obvious that it is \"self-documenting\" (I'll explain why later), \n",
    "\n",
    "**But for now... you should err on the side of adding MORE comments**. Why? If you need to take a break and come back at a later point, comments will help to quickly bring you up to speed if you forgot why you put in a particular line of code. Getting in the habit of using comments is smart.\n",
    "\n",
    "You'll become more discerning about comments as you progress. Two articles about how and when to use comments: [this link](https://realpython.com/python-comments-guide/#why-commenting-your-code-is-so-important) and [this link](https://realpython.com/documenting-python-code/#why-documenting-your-code-is-so-important)\n",
    "\n",
    "### Arithmetic"
   ]
  },
  {
   "cell_type": "code",
   "execution_count": null,
   "metadata": {},
   "outputs": [],
   "source": [
    "# YOU: TYPE ALL OF THESE OUT ON YOUR OTHER PARTICIPATION SHEET... YOU CAN OMIT THE COMMENTS IF YOU WANT\n",
    "# YOU: TRY VARIATIONS TOO...\n",
    "\n",
    "print(2+3) # addition\n",
    "print(2-3) # subtraction\n",
    "print(2/3) # division - in Python 3, division of integers (a data type) inherently returns floats (a data type)\n",
    "print(type(2), type(2/3)) # see?\n",
    "print(2//3, type(2//3)) # floor division returns an integer. \n",
    "# FOR YOU to try: use this to tell me how many full hours are in 7643 minutes?"
   ]
  },
  {
   "cell_type": "code",
   "execution_count": null,
   "metadata": {},
   "outputs": [],
   "source": [
    "print(2%3) # mod operator\n",
    "print(2*3) # multiplication\n",
    "print(2**3) # 2 to the power of three\n",
    "print(2^3) # ^ is NOT the power operator!!! it is a 'bit' operator - you don't need to know this for now\n",
    "\n",
    "int(2+3*(4+15)/3) # 1. PEMDAS applies \n",
    "                  # 2. If the last command in a cell return an *object*, jupyter auto prints it w/o needing print()\n",
    "                  # 3. this should be a float (21.0), but you can convert a float to an int with the int() function"
   ]
  },
  {
   "cell_type": "markdown",
   "metadata": {},
   "source": [
    "### Parentheses - Grouping and Calling\n",
    "\n",
    "As the above example shows, parentheses are for **grouping** (`(4+15)/3` forces addition before division) and **calling** a function (e.g. `print()` means the `print` function is called on the inputs inside the parentheses).\n",
    "\n",
    "### Logic and comparisons\n",
    "\n",
    "The **comparison operators** are `==` (equals), `!=` (Not equal), `>` (greater than), `>=` (equal or greater than), `<`, and `<=`. Each of these prompts Python to **evaluate the truth** of the comparison and return `True` or `False`.\n",
    "\n",
    "`True` and `False` are booleans, meaning `True` is equal to 1, and `False` is equal to 0. "
   ]
  },
  {
   "cell_type": "code",
   "execution_count": null,
   "metadata": {},
   "outputs": [],
   "source": [
    "# YOU: TYPE ALL OF THESE OUT ON YOUR OTHER PARTICIPATION SHEET... YOU CAN OMIT THE COMMENTS IF YOU WANT\n",
    "# YOU: TRY VARIATIONS TOO...\n",
    "\n",
    "print(3>3)            # 3 is not greater than 3, so this evaluates to...\n",
    "                      # YOU: try 2 of the 3 other comparison operators\n",
    "print(True == 1)      \n",
    "print(type(True), int(True), type(False), int(False)) # print() can print a sequence of objects "
   ]
  },
  {
   "cell_type": "markdown",
   "metadata": {},
   "source": [
    "The **logic operators** are `and`, `or`, and `not`. They evaluate a sequence of statements and return a true or false boolean.\n",
    "\n",
    "_**What does `or` mean?**_ In common parlance, `or` usually means \"Do you want A or do you want B? (pick one)\". Mathematically, `or` works like a dad joke - You: \"Dad, are we rich or poor?\" Dad: \"Yes\"."
   ]
  },
  {
   "cell_type": "code",
   "execution_count": null,
   "metadata": {
    "scrolled": true
   },
   "outputs": [],
   "source": [
    "# YOU: TYPE ALL OF THESE OUT ON YOUR OTHER PARTICIPATION SHEET... YOU CAN OMIT THE COMMENTS IF YOU WANT\n",
    "\n",
    "a = True              # you assign variables by writing: VariableName = Thing. \n",
    "b = False\n",
    "print(a and b)        # if both sides of *and* are true, the whole thing is\n",
    "print(a or b)         # if either side of *or* is true, the whole thing is\n",
    "print(a and not b)    # *not* negates what is after it\n",
    "print(not a or not b) # \"not b\" is true, so the whole thing is true"
   ]
  },
  {
   "cell_type": "markdown",
   "metadata": {},
   "source": [
    "The **membership operators** `in` and `not in` check whether the left object is or is not in the object on the right side. "
   ]
  },
  {
   "cell_type": "code",
   "execution_count": null,
   "metadata": {},
   "outputs": [],
   "source": [
    "# try these... what do you get?\n",
    "a=3\n",
    "b=[1,2,3]\n",
    "print(a in b)\n",
    "print(a not in b)\n",
    "print(b in a)\n",
    "print(b not in a)"
   ]
  },
  {
   "cell_type": "markdown",
   "metadata": {},
   "source": [
    "The **identity operators** `is` and `is not` check whether the left side and the right side are the same object.\n",
    "\n",
    "**WARNING: `is` and `==` are NOT the same!!!*** Here is an example [borrowed from G4G](https://www.geeksforgeeks.org/difference-operator-python/)."
   ]
  },
  {
   "cell_type": "code",
   "execution_count": null,
   "metadata": {},
   "outputs": [],
   "source": [
    "list1 = [] \n",
    "list2 = [] \n",
    "list3=list1 \n",
    "print(list1 == list2)\n",
    "print(list1 is list2)\n",
    "print(list1 is list3)"
   ]
  },
  {
   "cell_type": "markdown",
   "metadata": {},
   "source": [
    "**Parentheses:** You can (and certainly will at some point need to) check for the truth of statements involving many variables, and complex logic requests. You can dictate the order Python evaluates statements. So, for example,\n",
    "\n",
    "```python\n",
    "if (Poor and TaxRateAtOrBelowNegative10) or (MiddleClass and TaxRateAtOrBelow5) or (Rich and TaxRateBelow15):\n",
    "    start_audit()\n",
    "```\n",
    "\n",
    "will audit rich filers if they have less than a 15% tax rate, but will only audit poor tax filers if they had a negative tax rate."
   ]
  },
  {
   "cell_type": "code",
   "execution_count": null,
   "metadata": {},
   "outputs": [],
   "source": [
    "# a few silly examples\n",
    "\n",
    "print((3>3) == False) # 1 is not greater than 2, so this evaluates to... \n",
    "print(3>3 == False)   \n",
    "print((3>3) != True)\n"
   ]
  },
  {
   "cell_type": "markdown",
   "metadata": {},
   "source": [
    "### Variables are pointers\n",
    "\n",
    "[Read this page!](https://nbviewer.jupyter.org/github/jakevdp/WhirlwindTourOfPython/blob/master/03-Semantics-Variables.ipynb)\n",
    "\n",
    "I'll simply provide the following **warning: Unless you read and understand the link above,** any time you write `x=y`, you might be creating a secret bug in your code that will cause potentially enormous errors!\n",
    "\n",
    "To illustrate:"
   ]
  },
  {
   "cell_type": "code",
   "execution_count": 1,
   "metadata": {},
   "outputs": [
    {
     "name": "stdout",
     "output_type": "stream",
     "text": [
      "<class 'list'>\n",
      "[1, 2, 3]\n",
      "[1, 2, 3, 4]\n"
     ]
    }
   ],
   "source": [
    "x = [1, 2, 3]\n",
    "print(type(x))\n",
    "y = x\n",
    "print(y)\n",
    "x.append(4) \n",
    "print(y) # y was changed as well... Why? Read the page above!"
   ]
  },
  {
   "cell_type": "markdown",
   "metadata": {},
   "source": [
    "### Everything is an object\n",
    "\n",
    "Referring again to [Whirlwind of Python](https://nbviewer.jupyter.org/github/jakevdp/WhirlwindTourOfPython/blob/master/03-Semantics-Variables.ipynb),\n",
    "\n",
    "> In object-oriented programming languages like Python, an object is an entity that contains data along with associated metadata and/or functionality. In Python everything is an object, which means every entity has some metadata (called attributes) and associated functionality (called methods). These attributes and methods are accessed via the dot syntax.\n",
    "\n",
    "So, `object.method(<arguments here>)` will call the function `method` from/on `object`, and the function uses whatever arguments you pass it.\n",
    "\n",
    "Examples:\n",
    "- Above, the object `x` has the type attribute of `list`, and lists have a \"method\" called `append`.\n",
    "- [In the stock prices program we show during the lectures](../../lectures/stock_prices.html), we imported a package: `import pandas_datareader as pdr`. Now, the \"package\" `pandas_datareader` is actually an \"object\" (which we call `pdr` for convenience). That object - like any object - has \"method\" functions. In that code, for example, I called `pdr.get_data_yahoo(stocks)` to download stock prices. \n",
    "- Seriously, EVERYTHING is an object. \n",
    "    - Lists are objects (duh)\n",
    "    - Attributes and methods of objects are themselves objects. Put `type(x.append)` at the end of the code block above. \n",
    "    - Files\n",
    "\n"
   ]
  },
  {
   "cell_type": "markdown",
   "metadata": {},
   "source": [
    "### Common object types\n",
    "\n",
    "`Boolean` and `int` were covered above. \n",
    "\n",
    "`None`. [See here](https://nbviewer.jupyter.org/github/jakevdp/WhirlwindTourOfPython/blob/master/05-Built-in-Scalar-Types.ipynb#None-Type).\n",
    "\n",
    "`float`. **WARNING: Beware of comparing floating point numbers!** Below is an example, and see [here for the explanation](https://nbviewer.jupyter.org/github/jakevdp/WhirlwindTourOfPython/blob/master/05-Built-in-Scalar-Types.ipynb#Aside:-Floating-point-precision)."
   ]
  },
  {
   "cell_type": "code",
   "execution_count": 2,
   "metadata": {},
   "outputs": [
    {
     "name": "stdout",
     "output_type": "stream",
     "text": [
      "True\n",
      "False\n"
     ]
    }
   ],
   "source": [
    "print(1.0+2.0 == 3.0)\n",
    "print(0.1+0.2 == 0.3) # WHAT?!"
   ]
  },
  {
   "cell_type": "markdown",
   "metadata": {},
   "source": [
    "`str`. There are built-in functions that work on strings directly"
   ]
  },
  {
   "cell_type": "code",
   "execution_count": null,
   "metadata": {},
   "outputs": [],
   "source": [
    "a='some string' # a = \"some string\" is the same. \n",
    "\n",
    "# some functions work on strings directly\n",
    "print(len(a)) \n",
    "\n",
    "# string types also have many functions as methods\n",
    "print(a.upper())\n",
    "#YOU: type a.<tab> in your notebook, and jupyter will open a list of possible functions!\n"
   ]
  },
  {
   "cell_type": "markdown",
   "metadata": {},
   "source": [
    "### Built in data structures\n",
    "\n",
    "Python has `list`, `tuple`, `dict`, and `set`. Beginners typically rely on lists extensively, but as you progress, you will find that all four are extremely useful, because their unique traits solve different needs.\n",
    "\n",
    "[After class, you should absolutely read this](https://nbviewer.jupyter.org/github/jakevdp/WhirlwindTourOfPython/blob/master/06-Built-in-Data-Structures.ipynb) and as you do, try the examples, and throw them into your growing personal cheat sheet. \n",
    "\n",
    "First, let me illustrate the use of `.extend()` vs `.append()` vs `+` for lists:"
   ]
  },
  {
   "cell_type": "code",
   "execution_count": 3,
   "metadata": {},
   "outputs": [
    {
     "data": {
      "text/plain": [
       "[8, 5, 6, 3, 7, 5, 3, 4, 13, 14, 7, [6], [8, 9]]"
      ]
     },
     "execution_count": 3,
     "metadata": {},
     "output_type": "execute_result"
    }
   ],
   "source": [
    "L=[8, 5, 6, 3, 7]\n",
    "L.extend([5])    # extend concatenates\n",
    "L.extend([3,4])  # concatenates work the same with more elemens\n",
    "L = L + [13,14]  # + concatenates\n",
    "L.append(7)      # append adds its entire argument to the list as a new element. \n",
    "L.append([6])    # 7 is an int, so it goes in as an int, but [6] is a *list*, so append puts a list as the element\n",
    "L.append([8,9])  # see, the last element is [8,9]\n",
    "L\n"
   ]
  },
  {
   "cell_type": "markdown",
   "metadata": {},
   "source": [
    "Now, let's all define this vector: `L=[8, 5, 6, 3, 7]`. \n",
    "\n",
    "**Exercises: Write code that does the following:**\n",
    "1. Returns the length.\n",
    "1. Returns the largest element.\n",
    "1. Returns the smallest element.\n",
    "1. Returns the total of the vector.\n",
    "2. Returns the first element. See [this awesome answer](https://stackoverflow.com/questions/509211/understanding-slice-notation?rq=1) to learn about \"slicing\" lists in Python. If that link is dead: https://stackoverflow.com/questions/509211/understanding-slice-notation?rq=1 \n",
    "2. Returns the last element.\n",
    "2. Returns the first 2 elements.\n",
    "2. Returns the last 2 elements.\n",
    "2. Returns the odd numbered elements (i.e. [8,6,7].\n",
    "\n",
    "I'd suggest putting what you just learned about how python indexes an object and how to slice a list into your personal cheat sheet until you have it memorized thoroughly. "
   ]
  },
  {
   "cell_type": "markdown",
   "metadata": {},
   "source": [
    "### For loops\n",
    "\n",
    "Python loops are very intuitive:\n",
    "\n",
    "```\n",
    "for state in states:\n",
    "    capitol=stateCapitals[state]\n",
    "    print(capitol)\n",
    "    print(capitol.upper())\n",
    "    <you can use as many lines as you need, just keep indenting>\n",
    "    <the indents are 4 spaces, or more commonly, a <tab>>\n",
    "    \n",
    "print(states) # <-- the for loop ends when you write a line of \n",
    "              # code (not a comment!) that is unindented \n",
    "```\n",
    "\n",
    "So, for each state, Python will start the indented block of code and run each line within the code block in sequence. So if the list of states is `[Alabama, Alaska, Arizona,...]`, Python will...\n",
    "1. Set state = 'Alabama'\n",
    "1. Set capitol = 'Montgomery'\n",
    "2. Print 'Montgomery'\n",
    "3. Print 'MONTGOMERY'\n",
    "4. Execute the next two lines of code that I've \"skipped above\".\n",
    "5. At the end of the block of code, python will check if there is another element in the states vector. There is!\n",
    "1. Set state = 'Alaska'\n",
    "1. Set capitol = 'Juneau'\n",
    "2. Print 'Juneau'\n",
    "3. Print 'JUNEAU'\n",
    "4. ...\n",
    "5. Set state = 'Wyoming'\n",
    "1. Set capitol = 'Cheyenne'\n",
    "2. Print 'Cheyenne'\n",
    "3. Print 'CHEYENNE'\n",
    "4. Is there another state? No? Ok! The for-loop is complete! Python will exit the code block and proceed. The next line of code is `print(states)` and so that's the next thing it will do.\n",
    " \n",
    "A few comments:"
   ]
  },
  {
   "cell_type": "markdown",
   "metadata": {
    "tags": [
     "popout"
    ]
   },
   "source": [
    "**PYTHON AND INDENTATION**\n",
    "<br>\n",
    "\n",
    "In python, indentations at the beginning of lines are not \"up to the user\". Indentations indicate a \"block\" of code that is run as a unit.\n",
    "<br>\n",
    "\n",
    "These two codes look similar but produce different results:"
   ]
  },
  {
   "cell_type": "code",
   "execution_count": 4,
   "metadata": {
    "tags": [
     "popout"
    ]
   },
   "outputs": [
    {
     "name": "stdout",
     "output_type": "stream",
     "text": [
      "stating new block\n",
      "I am here\n"
     ]
    }
   ],
   "source": [
    "x = 7\n",
    "if x < 5:       # this is false, obviously,\n",
    "    z = x+2        # so this never runs and \n",
    "    print('I am not here.') # this doesn't print\n",
    "print('stating new block')\n",
    "if x < 5:       # this is false, obviously,\n",
    "    z = x+2        # so this never runs and \n",
    "print('I am here') # this does print"
   ]
  },
  {
   "cell_type": "markdown",
   "metadata": {},
   "source": [
    "- The syntax is `for <name> in <iterable object>:`. **You must include the colon!** After that, all lines of code within the \"block\" of code of the for loop are indented. See the popout to the right on indentation.\n",
    "    - _Note: When I write anything inside `<>`, you should drop the \"<\" and \">\" symbols too._\n",
    "- The iterator object can be anything Python can iterate through, e.g. a list. (But not just lists!) So the list above is a list of states, and note that it is descriptively named \"states\". \n",
    "- You decide what the `<name>` is, and it should be something that communicates the content. \n",
    "    - **_Generally speaking_, don't name variables in Python `x`, `y`, `z`, `vector`, `myvector` and other uninformative names! Use informative names to make you code readable!**\n",
    "    - If you are looping over `letters`, each object might be called a `letter`, if you are looping over `stocks`, each element should probably be called a `stock`,.. (DUH, right?)"
   ]
  },
  {
   "cell_type": "markdown",
   "metadata": {},
   "source": [
    "Conversely, how you use whitespace _within_ a line is up to you. Both of these lines of code are the same:\n",
    "    \n",
    "```python\n",
    "print(      a)\n",
    "\n",
    "print(a)\n",
    "```\n"
   ]
  },
  {
   "cell_type": "markdown",
   "metadata": {},
   "source": [
    "### If, elif, else\n",
    "\n",
    "Syntax:\n",
    "\n",
    "```python \n",
    "if <condition #1>:                         # you must use the colon!\n",
    "     <do some stuff if condition is true>\n",
    "elif <condition #2>:                       # as in \"Else-If\"\n",
    "    <if condition #1 is false, and \n",
    "    condition #2 is true, run this block>\n",
    "else:\n",
    "    <if neither #1 or #2 are true, do this>\n",
    "```\n",
    "\n",
    "Comments:\n",
    "- You can include zero or as many `elif` code blocks as you want\n",
    "- You can omit the `else` block entirely\n",
    "- Whatever is in `<condition>` must evaluate to True or False or 1 or 0\n",
    "- See the **\"Logic and comparisons\"** section above on how Python evaluates conditions\n"
   ]
  },
  {
   "cell_type": "markdown",
   "metadata": {},
   "source": [
    "### While\n",
    "\n",
    "Syntax:\n",
    "\n",
    "```python\n",
    "while <condition is True>:\n",
    "    <do some stuff>\n",
    "```\n",
    "\n",
    "For example:"
   ]
  },
  {
   "cell_type": "code",
   "execution_count": 5,
   "metadata": {},
   "outputs": [
    {
     "name": "stdout",
     "output_type": "stream",
     "text": [
      "0\n",
      "1\n",
      "2\n",
      "3\n",
      "4\n",
      "5\n",
      "6\n"
     ]
    }
   ],
   "source": [
    "counter = 0\n",
    "while counter < 7:\n",
    "    print(counter)\n",
    "    counter += 1 # \"+=\" is short for \"add to myself\". \n",
    "                 # Here, it's an abbreviation for: counter = counter + 1"
   ]
  },
  {
   "cell_type": "markdown",
   "metadata": {},
   "source": [
    "I have one important comment about `while` loops: **Every time through the loop, there must be a chance for the condition to become False. If not, your code will loop forever!**\n",
    "\n",
    "We won't use while loops in this class. But if you ever write one, and it is stuck in an infinite loop, you can stop the kernel by typing <kbd>i</kbd>, <kbd>i</kbd>. Or click the \"Terminals and Kernels\" tab in the left sidebar and \"shutdown\" next to your code's filename. \n"
   ]
  },
  {
   "cell_type": "markdown",
   "metadata": {},
   "source": [
    "### Writing your own functions\n",
    "\n",
    "Writing your own functions is important for improving the clarity of your code  because it\n",
    "- separates different strands of logic\n",
    "- allows you to reuse code\n",
    "- prevents copy/paste errors\n",
    "\n",
    "To write a function, write `def <nameOfYourChoice>(<you can specify arguments the function takes, or none>):` and then write your indented code block that is the function. \n",
    "\n",
    "On inputs: \n",
    "- **Any object(s) you want can be given as inputs!** You can give as inputs a variable, a list, a dictionary, even a function. Remember, in python, _everything is an object_. \n",
    "- Functions can get \"positional\" arguments or keyword arguments. Positional arguments are understood because Python figures them out based on the order in which you provide them.\n",
    "\n",
    "On outputs:\n",
    "- **Any object(s) you want can be returned as outputs!** Once the code executes a line starting with `return`, the function will end and output whatever is on that line. It can be a list, set, function, dictionary, string. It can be a dictionary with lists inside it, or a list with dictionaries inside it. Go wild if you want! (While practicing python. In practice, don't be complex for the sake of it!)\n",
    "\n",
    "On documentation:\n",
    "- Code that is poorly documented won't be used. By you, by you in the future, or by others. So you should document it! You do this by adding line(s) immediately after the first line, as the example below shows.\n",
    "- The docstring can be accessed by users via `<functionName>?` or `help(<FunctionName>)` the same as any other function. In fact, this is how help is written in all Python functions we've used!\n",
    "\n",
    "**Example:** The function below shows off positional and keyword arguments, how to write a multiline _\"docstring\"_, how the program ends once a return is executed, outputting a list, and setting default values for inputs."
   ]
  },
  {
   "cell_type": "code",
   "execution_count": 6,
   "metadata": {},
   "outputs": [
    {
     "name": "stdout",
     "output_type": "stream",
     "text": [
      "WHOA THIS IS NEGATIVE\n",
      "[6, 2]\n",
      "[2, 2]\n",
      "[4, 2]\n",
      "Help on function f in module __main__:\n",
      "\n",
      "f(x, a=1, b=1)\n",
      "    The first argument you give goes to x, the second to a, the third to b.\n",
      "    If you do no provide a or b, they default to the value 1.\n",
      "\n"
     ]
    }
   ],
   "source": [
    "def f(x, a=1, b=1):\n",
    "    '''\n",
    "    The first argument you give goes to x, the second to a, the third to b.\n",
    "    If you do not provide a or b, they default to the value 1.\n",
    "    '''\n",
    "    if x < 0:\n",
    "        return \"WHOA THIS IS NEGATIVE\"\n",
    "    return [a + b * x, 2] # you can return any object(s) you want! this is a list, for example\n",
    "\n",
    "print(f(-100))    # notice it never gets to a+b*x\n",
    "print(f(2,2,2))   \n",
    "print(f(1))       # uses the default value of a and b\n",
    "print(f(1,b=3))   # uses the default value of a\n",
    "help(f)           # the docstring is useful!"
   ]
  },
  {
   "cell_type": "code",
   "execution_count": 7,
   "metadata": {},
   "outputs": [
    {
     "ename": "SyntaxError",
     "evalue": "positional argument follows keyword argument (<ipython-input-7-4bfe94fa827f>, line 2)",
     "output_type": "error",
     "traceback": [
      "\u001b[1;36m  File \u001b[1;32m\"<ipython-input-7-4bfe94fa827f>\"\u001b[1;36m, line \u001b[1;32m2\u001b[0m\n\u001b[1;33m    print(f(b=3,1))\u001b[0m\n\u001b[1;37m                ^\u001b[0m\n\u001b[1;31mSyntaxError\u001b[0m\u001b[1;31m:\u001b[0m positional argument follows keyword argument\n"
     ]
    }
   ],
   "source": [
    "# this won't work! python requires you to use the keyword arguments AFTER the positional arguments\n",
    "print(f(b=3,1)) "
   ]
  },
  {
   "cell_type": "markdown",
   "metadata": {},
   "source": [
    "### Scope\n",
    "\n",
    "I want you to be generally aware of the concept of \"global\" and \"local\" scope. Generally, python objects are available only within the region they are defined and subregions therein. Put differently, objects are available downstream, but not upstream."
   ]
  },
  {
   "cell_type": "code",
   "execution_count": 8,
   "metadata": {},
   "outputs": [
    {
     "name": "stdout",
     "output_type": "stream",
     "text": [
      "1\n"
     ]
    }
   ],
   "source": [
    "x=1\n",
    "def silly_func():\n",
    "    xyz = 14\n",
    "    print(x) # variables defined OUTSIDE AND BEFORE a function are visible INSIDE the func\n",
    "    \n",
    "silly_func() "
   ]
  },
  {
   "cell_type": "code",
   "execution_count": 9,
   "metadata": {},
   "outputs": [
    {
     "ename": "NameError",
     "evalue": "name 'xyz' is not defined",
     "output_type": "error",
     "traceback": [
      "\u001b[1;31m---------------------------------------------------------------------------\u001b[0m",
      "\u001b[1;31mNameError\u001b[0m                                 Traceback (most recent call last)",
      "\u001b[1;32m<ipython-input-9-e4e4f48ed516>\u001b[0m in \u001b[0;36m<module>\u001b[1;34m\u001b[0m\n\u001b[1;32m----> 1\u001b[1;33m \u001b[0mprint\u001b[0m\u001b[1;33m(\u001b[0m\u001b[0mxyz\u001b[0m\u001b[1;33m)\u001b[0m   \u001b[1;31m# variables defined INSIDE a function are NOT visible OUTSIDE the func\u001b[0m\u001b[1;33m\u001b[0m\u001b[1;33m\u001b[0m\u001b[0m\n\u001b[0m",
      "\u001b[1;31mNameError\u001b[0m: name 'xyz' is not defined"
     ]
    }
   ],
   "source": [
    "print(xyz)   # variables defined INSIDE a function are NOT visible OUTSIDE the func\n"
   ]
  },
  {
   "cell_type": "code",
   "execution_count": 42,
   "metadata": {},
   "outputs": [
    {
     "name": "stdout",
     "output_type": "stream",
     "text": [
      "2\n",
      "1\n"
     ]
    }
   ],
   "source": [
    "x = 1\n",
    "def silly_func():\n",
    "    x=2\n",
    "    return x\n",
    "print(silly_func())\n",
    "print(x)               # changing the downstream variable inside the function didn't change the upstream version"
   ]
  },
  {
   "cell_type": "markdown",
   "metadata": {},
   "source": [
    "## Popular, nay, essential packages\n",
    "\n",
    "As the semester proceeds, you will surely need to learn (to some degree) the following packages. **For each, you might note the most common and useful functions, and copy \"cookbook\" uses of the packages which you can paste into new programs.** (E.g. how to open a csv file.)\n",
    "\n",
    "_Note: I do not personally, nor do many programmers, commit to memory many functions of many packages. We simply **know what can be done** and when needed, we search (tab completion/google/stack overflow) for the command/recipe for that function._\n",
    "\n",
    "- Built-in packages:`os` `sys` `itertools` `re` `datetime` `csv`\n",
    "- Datasci packages (Anaconda installs these for you!), note the aliases here aren't strictly needed, but by convention, virtually everyone uses the shorter names\n",
    "    - `pandas as pd` \n",
    "    - `seaborn as sns`\n",
    "    - `matplotlib as mpl`\n",
    "    - `statsmodels.api as sm` \n",
    "    - `matplotlib.pyplot as plt`\n",
    "    - `numpy as np`\n",
    "    - `sklearn`\n",
    "- Web crawling\n",
    "    - `requests`, `requests_html`, `urllib`\n",
    "    - `time` and `tdqm`\n",
    "    - `beautifulsoup4 as bs4` \n",
    "    - `html5lib`\n",
    "    - `selenium`"
   ]
  },
  {
   "cell_type": "markdown",
   "metadata": {},
   "source": [
    "## Clear output and rerun from the start!\n",
    "\n",
    "Code must run from beginning to end and produce the same thing every time\n",
    "- Restart the kernal and clear output\n",
    "- Run all cells"
   ]
  },
  {
   "cell_type": "markdown",
   "metadata": {},
   "source": [
    "## How do I...?\n",
    "\n",
    "### Stuck on syntax issues for a function? \n",
    "\n",
    "See the tips in the [Jupyter Lab](05_jupyterlab#resources) page.\n",
    "\n",
    "(content:chunkcopy)=\n",
    "### Copy chunks of lecture files into my own code?\n",
    "\n",
    "I think this is the easiest way:\n",
    "1. Clone the lecture repo to your computer.\n",
    "2. Open the code you're working on in Jupyter Lab.\n",
    "3. Open the lecture code you're working on in Jupyter Lab in a new tab.\n",
    "4. Drag the lecture code to the right until it snaps into a new panel. \n",
    "5. Click and hold to the **left** of the block you want to drag into your code and drag it into your code.\n",
    "\n",
    "```{admonition} Pro Tip\n",
    ":class: tip\n",
    "You can select a bunch of code blocks and drag them all at once. To do that, click to the left of a cell you want, hold the shift button, and then click up or down until all the cells you want are highlighted. Then do step 5 above.\n",
    "```\n",
    "\n",
    "Want another amateur youtube video? Here's one of me showing those steps!\n",
    "\n",
    "<iframe width=\"560\" height=\"315\" src=\"https://www.youtube.com/embed/0XtS-pI9tR8\" frameborder=\"0\" allow=\"accelerometer; autoplay; clipboard-write; encrypted-media; gyroscope; picture-in-picture\" allowfullscreen></iframe>\n",
    "\n",
    "---\n",
    "\n",
    "<iframe src=\"https://docs.google.com/forms/d/e/1FAIpQLScLgqMhkNZHFJdeew7q2aAk5crzNdMss_NZ4vC4LKluUuo_pg/viewform?embedded=true\" width=\"640\" height=\"925\" frameborder=\"0\" marginheight=\"0\" marginwidth=\"0\">Loading…</iframe>"
   ]
  }
 ],
 "metadata": {
  "kernelspec": {
   "display_name": "Python 3",
   "language": "python",
   "name": "python3"
  },
  "language_info": {
   "codemirror_mode": {
    "name": "ipython",
    "version": 3
   },
   "file_extension": ".py",
   "mimetype": "text/x-python",
   "name": "python",
   "nbconvert_exporter": "python",
   "pygments_lexer": "ipython3",
   "version": "3.8.5"
  }
 },
 "nbformat": 4,
 "nbformat_minor": 4
}
