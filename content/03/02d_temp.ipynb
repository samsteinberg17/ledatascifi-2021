{
 "cells": [
  {
   "cell_type": "markdown",
   "metadata": {},
   "source": [
    "# Temporary vs. Permanent Methods\n",
    "\n",
    "### Temporary Methods\n",
    "\n",
    "When you use a method on an object (e.g. a DataFrame) in python, `<object>.<method>(<args>)` performs the method on the object and returns the modified object, as you can see here:\n"
   ]
  },
  {
   "cell_type": "code",
   "execution_count": 1,
   "metadata": {},
   "outputs": [
    {
     "data": {
      "text/html": [
       "<div>\n",
       "<style scoped>\n",
       "    .dataframe tbody tr th:only-of-type {\n",
       "        vertical-align: middle;\n",
       "    }\n",
       "\n",
       "    .dataframe tbody tr th {\n",
       "        vertical-align: top;\n",
       "    }\n",
       "\n",
       "    .dataframe thead th {\n",
       "        text-align: right;\n",
       "    }\n",
       "</style>\n",
       "<table border=\"1\" class=\"dataframe\">\n",
       "  <thead>\n",
       "    <tr style=\"text-align: right;\">\n",
       "      <th></th>\n",
       "      <th>height</th>\n",
       "      <th>gender</th>\n",
       "      <th>weight</th>\n",
       "      <th>feet</th>\n",
       "    </tr>\n",
       "  </thead>\n",
       "  <tbody>\n",
       "    <tr>\n",
       "      <th>0</th>\n",
       "      <td>72</td>\n",
       "      <td>M</td>\n",
       "      <td>175</td>\n",
       "      <td>6</td>\n",
       "    </tr>\n",
       "    <tr>\n",
       "      <th>1</th>\n",
       "      <td>60</td>\n",
       "      <td>F</td>\n",
       "      <td>110</td>\n",
       "      <td>5</td>\n",
       "    </tr>\n",
       "    <tr>\n",
       "      <th>2</th>\n",
       "      <td>68</td>\n",
       "      <td>M</td>\n",
       "      <td>150</td>\n",
       "      <td>5</td>\n",
       "    </tr>\n",
       "  </tbody>\n",
       "</table>\n",
       "</div>"
      ],
      "text/plain": [
       "   height gender  weight  feet\n",
       "0      72      M     175     6\n",
       "1      60      F     110     5\n",
       "2      68      M     150     5"
      ]
     },
     "execution_count": 1,
     "metadata": {},
     "output_type": "execute_result"
    }
   ],
   "source": [
    "import pandas as pd\n",
    "\n",
    "# define a df\n",
    "df = pd.DataFrame({'height':[72,60,68],'gender':['M','F','M'],'weight':[175,110,150]})\n",
    "\n",
    "# call method on df and print - df.assign yields the modified object!\n",
    "df.assign(feet=df['height']//12)"
   ]
  },
  {
   "cell_type": "markdown",
   "metadata": {},
   "source": [
    "This is useful if you want to  alter the variable **temporarily** (e.g. for a graph, or to just print it out, like I literally just did!). \n",
    "\n",
    "**But the object in memory wasn't changed when I used `df.<method>`. See, here is the df in memory, and it wasn't changed:**"
   ]
  },
  {
   "cell_type": "code",
   "execution_count": 2,
   "metadata": {},
   "outputs": [
    {
     "name": "stdout",
     "output_type": "stream",
     "text": [
      "   height gender  weight\n",
      "0      72      M     175\n",
      "1      60      F     110\n",
      "2      68      M     150\n"
     ]
    }
   ],
   "source": [
    "print(df)  # see, the object has no feet! this is the original obj!"
   ]
  },
  {
   "cell_type": "markdown",
   "metadata": {},
   "source": [
    "### Permanent changes\n",
    "\n",
    "If you want to change the object permanently, you have two options[^caveat]"
   ]
  },
  {
   "cell_type": "code",
   "execution_count": 3,
   "metadata": {},
   "outputs": [
    {
     "name": "stdout",
     "output_type": "stream",
     "text": [
      "   height gender  weight  feet1  feet2\n",
      "0      72      M     175      6      6\n",
      "1      60      F     110      5      5\n",
      "2      68      M     150      5      5\n"
     ]
    }
   ],
   "source": [
    "# option 1: explicitly define the df as the prior df after the method was called\n",
    "# here, that means to add \"df = \" before the df.method \n",
    "df = df.assign(feet1=df['height']//12) \n",
    "\n",
    "# option 2: define a new feature of the df\n",
    "# here, \"df['newcolumnname'] = \" (some operation)\n",
    "df['feet2']=df['height']//12\n",
    "\n",
    "print(df) # both of these added to obj in memory"
   ]
  },
  {
   "cell_type": "markdown",
   "metadata": {},
   "source": [
    "\n",
    "[^caveat]: You can also do some pandas operations \"in place\", without explicitly writing `df = ` at the start of the line. However, I discourage this for reasons I won't belabor here. "
   ]
  }
 ],
 "metadata": {
  "kernelspec": {
   "display_name": "Python 3",
   "language": "python",
   "name": "python3"
  },
  "language_info": {
   "codemirror_mode": {
    "name": "ipython",
    "version": 3
   },
   "file_extension": ".py",
   "mimetype": "text/x-python",
   "name": "python",
   "nbconvert_exporter": "python",
   "pygments_lexer": "ipython3",
   "version": "3.8.5"
  }
 },
 "nbformat": 4,
 "nbformat_minor": 4
}
