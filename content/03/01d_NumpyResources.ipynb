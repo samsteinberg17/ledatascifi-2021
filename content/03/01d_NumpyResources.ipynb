{
 "cells": [
  {
   "cell_type": "markdown",
   "metadata": {},
   "source": [
    "# More Resources\n",
    "\n",
    "\"Wait, I feel like the prior pages didn't cover enough!\"\n",
    "\n",
    "A: You're right! I'm speeding past Numpy because\n",
    "1. We're going to use `pandas` mostly, and most of our numpy usage will be _implicit_ numpy usage within pandas. \n",
    "2. There is such good tutorials online. Instead of copy-pasting the definitive materials, let me point you to the place:\n",
    "\n",
    "- [NumPy quickstart](https://numpy.org/doc/stable/user/quickstart.html)\n",
    "- [NumPy: the absolute basics for beginners](https://numpy.org/doc/stable/user/absolute_beginners.html)\n",
    "- [NumPy basics](https://numpy.org/doc/stable/user/basics.html)\n",
    "\n",
    "---\n",
    "\n",
    "\"But, but... couldn't we do lots of _finance_ stuff in numpy?\"\n",
    "\n",
    "Absolutely. Anytime you're using matrices, numpy is probably what you should be using. It happens that this finance class will not emphasize simulations or derivatives, which are just two finance settings where numpy shines. "
   ]
  }
 ],
 "metadata": {
  "kernelspec": {
   "display_name": "Python 3",
   "language": "python",
   "name": "python3"
  },
  "language_info": {
   "codemirror_mode": {
    "name": "ipython",
    "version": 3
   },
   "file_extension": ".py",
   "mimetype": "text/x-python",
   "name": "python",
   "nbconvert_exporter": "python",
   "pygments_lexer": "ipython3",
   "version": "3.8.5"
  }
 },
 "nbformat": 4,
 "nbformat_minor": 4
}
