{
 "cells": [
  {
   "cell_type": "markdown",
   "metadata": {},
   "source": [
    "# A Quick Guide to Numpy\n",
    "\n",
    "At the top of your python code, load Numpy like this:\n",
    "```py\n",
    "import numpy as np\n",
    "```\n",
    "Now you can use numpy throughout your file via the `np` object. \n",
    "\n",
    "```{tip}\n",
    "1. Jupyter Lab's \"Help\" menu has a link to Numpy documentation.\n",
    "2. You can access an element of a numpy array just like a list: \n",
    "\n",
    "    ```py\n",
    "    x=np.arange(1,5,1)\n",
    "    x[1]\n",
    "    ```\n",
    "    If the array is a matrix, `x[row,col]` works.\n",
    "    \n",
    "3. [Whirlwind](https://jakevdp.github.io/PythonDataScienceHandbook/02.02-the-basics-of-numpy-arrays.html) has a more comprehensive dive into splitting, slicing, and other numpy operations.\n",
    "```"
   ]
  },
  {
   "cell_type": "markdown",
   "metadata": {},
   "source": [
    "## Common methods:\n",
    "\n",
    "```{tip}\n",
    "Copy this table into your cookbook notes folder. \n",
    "```\n",
    "\n",
    "| Function | Description |\n",
    "| --- | --- |\n",
    "`np.array([user defined list, or lists of lists])` | creates an array or matrix\n",
    "`np.ones(how many)` and `np.ones([rows,cols])` | same but all elements are 1\n",
    "`np.zeros(how many)` and `np.zeros([rows,cols])` | same but all elements are 0\n",
    "`np.arange(start,end,stepsize)` | creates array, note that the array will not include any elements `>=end`\n",
    "`np.linspace(from,to,# of elements)` | creates array covering the range specified\n",
    "`np.eye(#)` | creates an identity matrix of size `#`\n",
    "`np.concatenate([x, y])` | combines arrays `x` and `y` \n",
    "`np.nan` | is a NaN object (e.g. like a missing element in a data table)  <br> <br> **We will definitely use this in pandas** \n",
    "`np.ceil(#)`, `np.floor(#)` | if #=3.4, ceil will return 4, and floor will return 3.\n",
    "`np.max(x)`, `np.min(x)`, `np.average(x)`, `np.median(x)` | **many statistical operations work as you would expect**\n",
    "`np.reshape(x,[rows,cols])` | works like it looks\n",
    "`np.random.<dist>` | can draw random numbers from many distributions <br> <br> use tab autocompletion to see all the options (type `np.random.` and then hit TAB) <br> <br> **YOU MUST NEVER EVER EVER EVER EVER DRAW RANDOM NUMBERS WITHOUT SETTING A SEED!!!** \n",
    "\n",
    "## A warning about \"random\" numbers\n",
    "\n",
    "```{warning}\n",
    "Let me repeat that: **YOU MUST NEVER EVER EVER EVER EVER DRAW RANDOM NUMBERS WITHOUT SETTING A SEED!!!**    \n",
    "\n",
    "If you don't, your code will produce different outputs every single time you run it. And other people will get different answers too! \n",
    "\n",
    "And the point of code is that it is reproducible. \n",
    "```\n"
   ]
  },
  {
   "cell_type": "code",
   "execution_count": 1,
   "metadata": {},
   "outputs": [
    {
     "name": "stdout",
     "output_type": "stream",
     "text": [
      "original random draw:     [0.55 0.72 0.6  0.54]\n",
      "now it's different:       [0.42 0.65 0.44 0.89]\n",
      "now it's different:       [0.96 0.38 0.79 0.53]\n",
      "now it's the same again:  [0.55 0.72 0.6  0.54]\n"
     ]
    }
   ],
   "source": [
    "import numpy as np\n",
    "np.set_printoptions(2) # just to control # of decimal places shown\n",
    "\n",
    "np.random.seed(0) # this is how you set a seed\n",
    "print(\"original random draw:    \",np.random.rand(4))\n",
    "print(\"now it's different:      \",np.random.rand(4))\n",
    "print(\"now it's different:      \",np.random.rand(4))\n",
    "np.random.seed(0)\n",
    "print(\"now it's the same again: \",np.random.rand(4))\n"
   ]
  },
  {
   "cell_type": "markdown",
   "metadata": {},
   "source": [
    "## Using Numpy within Pandas\n",
    "\n",
    "Because pandas is built on top of numpy, all of these numpy functions work on pandas objects.\n",
    "\n",
    "Numpy  🤝 Pandas\n",
    "\n",
    "       "
   ]
  },
  {
   "cell_type": "markdown",
   "metadata": {},
   "source": [
    "## The dark side of vectors and `numpy`\n",
    "\n",
    "1. You can't vectorize every operation :(\n",
    "2. Numpy is a great solution for the issue of speed, but not for the issue of memory. \n",
    "\n",
    "Numpy can be prohibitive, memory-wise: When you run an array operation, Python creates the entire array and puts it into memory, then runs it. A vector of length `1,000,000,000,000` is huge and requires substantial memory to create. By contrast, you can execute `for i in range(1,000,000,000,000): pass` without causing an issue, because Python **never created that vector, it just iterated over numbers**. This is because `range(#)` is a \"generator\" and not an explicit object. "
   ]
  }
 ],
 "metadata": {
  "kernelspec": {
   "display_name": "Python 3",
   "language": "python",
   "name": "python3"
  },
  "language_info": {
   "codemirror_mode": {
    "name": "ipython",
    "version": 3
   },
   "file_extension": ".py",
   "mimetype": "text/x-python",
   "name": "python",
   "nbconvert_exporter": "python",
   "pygments_lexer": "ipython3",
   "version": "3.8.5"
  }
 },
 "nbformat": 4,
 "nbformat_minor": 4
}
