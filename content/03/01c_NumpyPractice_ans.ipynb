{
 "cells": [
  {
   "cell_type": "markdown",
   "metadata": {},
   "source": [
    "# Exercise Answers"
   ]
  },
  {
   "cell_type": "code",
   "execution_count": 2,
   "metadata": {},
   "outputs": [],
   "source": [
    "import numpy as np"
   ]
  },
  {
   "cell_type": "markdown",
   "metadata": {},
   "source": [
    "## Some problems. Put your answers inside the print functions"
   ]
  },
  {
   "cell_type": "code",
   "execution_count": 13,
   "metadata": {},
   "outputs": [
    {
     "name": "stdout",
     "output_type": "stream",
     "text": [
      "array a:\n",
      "[[0 1]\n",
      " [2 3]]\n",
      "\n",
      "Maximum value of a:\n",
      "3\n",
      "\n",
      "Minimum value of a:\n",
      "0\n",
      "\n",
      "Return an array of the max in each column of a:\n",
      "[2 3]\n",
      "\n",
      "Return an array of the min in each row of a:\n",
      "[1 3]\n",
      "\n",
      "Return a, sorted within each row:\n",
      "[[0 1]\n",
      " [2 3]]\n",
      "\n",
      "Return a, sorted within each column:\n",
      "[[0 1]\n",
      " [2 3]]\n"
     ]
    }
   ],
   "source": [
    "a = np.arange(4).reshape((2,2))\n",
    "print(\"array a:\")\n",
    "print(a)\n",
    "\n",
    "print(\"\\nMaximum value of a:\")\n",
    "print(a.max()) # put your answer inside the print\n",
    "\n",
    "print(\"\\nMinimum value of a:\")\n",
    "print(a.min()) # put your answer inside the print\n",
    "\n",
    "print(\"\\nReturn an array of the max in each column of a:\")\n",
    "print(a.max(axis=0))\n",
    "\n",
    "print(\"\\nReturn an array of the min in each row of a:\")\n",
    "print(a.max(axis=1))\n",
    "\n",
    "print(\"\\nReturn a, sorted within each row:\")\n",
    "a.sort()\n",
    "print(a)\n",
    "\n",
    "print(\"\\nReturn a, sorted within each column:\")\n",
    "a.sort(axis=1)\n",
    "print(a)\n"
   ]
  },
  {
   "cell_type": "code",
   "execution_count": 22,
   "metadata": {},
   "outputs": [
    {
     "name": "stdout",
     "output_type": "stream",
     "text": [
      "array b:\n",
      "[[ 0  1]\n",
      " [ 2  3]\n",
      " [ 4  5]\n",
      " [ 6  7]\n",
      " [ 8  9]\n",
      " [10 11]\n",
      " [12 13]\n",
      " [14 15]\n",
      " [16 17]\n",
      " [18 19]\n",
      " [20 21]\n",
      " [22 23]\n",
      " [24 25]\n",
      " [26 27]\n",
      " [28 29]\n",
      " [30 31]\n",
      " [32 33]\n",
      " [34 35]\n",
      " [36 37]\n",
      " [38 39]]\n",
      "\n",
      "Print elements of the first column of b above that column's 80th percentile:\n",
      "[32 34 36 38]\n",
      "\n",
      "Covariance matrix of the columns of b:\n",
      "[[140. 140.]\n",
      " [140. 140.]]\n"
     ]
    }
   ],
   "source": [
    "b = np.arange(40).reshape((20,2))\n",
    "print(\"array b:\")\n",
    "print(b)\n",
    "\n",
    "print(\"\\nPrint elements of the first column of b above that column's 80th percentile:\")\n",
    "p80 = np.percentile(b[:,0],80)\n",
    "print(b[   b[:,0]>p80   , 0])   \n",
    "#b[:,0]>p80 finds the rows of b where the first columns value is above p80\n",
    "#b[ that, 0] prints the firms column\n",
    "\n",
    "print(\"\\nCovariance matrix of the columns of b:\")\n",
    "print(np.cov(b.T))"
   ]
  }
 ],
 "metadata": {
  "kernelspec": {
   "display_name": "Python 3",
   "language": "python",
   "name": "python3"
  },
  "language_info": {
   "codemirror_mode": {
    "name": "ipython",
    "version": 3
   },
   "file_extension": ".py",
   "mimetype": "text/x-python",
   "name": "python",
   "nbconvert_exporter": "python",
   "pygments_lexer": "ipython3",
   "version": "3.8.5"
  }
 },
 "nbformat": 4,
 "nbformat_minor": 4
}
