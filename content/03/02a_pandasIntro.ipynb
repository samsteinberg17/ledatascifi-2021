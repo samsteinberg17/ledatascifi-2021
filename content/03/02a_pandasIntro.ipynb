{
 "cells": [
  {
   "cell_type": "markdown",
   "metadata": {},
   "source": [
    "# Powerful Pandas\n",
    "\n",
    "It's time to learn `pandas`!\n",
    "\n",
    "````{tabbed} Pandas=\\$\n",
    "\n",
    "Pandas is worth the overhead. \n",
    "\n",
    "Pandas is the #1 way that professionals use tabular data in Python. (Read: Pandas get paid.)\n",
    "\n",
    "````\n",
    "\n",
    "````{tabbed} Pandas is Fat\n",
    "**Do not fret the size of Pandas**\n",
    "\n",
    "![](https://media.giphy.com/media/nXwhk6k5R97Da/giphy.gif)\n",
    "![](https://media.giphy.com/media/gB5o7HVgpkCYM/giphy.gif)\n",
    "\n",
    "There are over 250 methods[^lolold] that work on DataFrame objects! This means two things:\n",
    "1. [(Unlimited) Power](https://media.giphy.com/media/3o84sq21TxDH6PyYms/giphy.gif)!  \n",
    "2. Oye, hard to remember! But I have tips below!\n",
    "\n",
    "[^lolold]: This number is out of date. It's even larger now. Err, more powerful!\n",
    "\n",
    "On top of trying to memorize (well, sort of) the available methods, a tough part of data science is conceptualizing how to shape and format and construct datasets so that algos you want to run can run and so that plots can plot.\n",
    "\n",
    "So I'm going to try to reduce it to the most common operations, and make you aware of things you can do. By the end of the semester, your Pandas proficiency will have you feeling like [Sheev Palpy](https://media.giphy.com/media/3o84sq21TxDH6PyYms/giphy.gif). \n",
    "````\n",
    "\n",
    "```{tabbed} Not happening\n",
    "I promise it will go better than this\n",
    "\n",
    "![](https://media.giphy.com/media/EPcvhM28ER9XW/giphy.gif)\n",
    "```\n",
    "\n",
    "```{tabbed} Cue the montage\n",
    "![](https://media.giphy.com/media/QxZ0nbcVgMlPlnfZos/giphy.gif)\n",
    "```\n",
    "\n",
    "```{tabbed} Soon \n",
    "![](https://media.giphy.com/media/fUSX3E4imAn9WHwrCV/giphy.gif)\n",
    "\n",
    "```\n",
    "\n"
   ]
  }
 ],
 "metadata": {
  "kernelspec": {
   "display_name": "Python 3",
   "language": "python",
   "name": "python3"
  },
  "language_info": {
   "codemirror_mode": {
    "name": "ipython",
    "version": 3
   },
   "file_extension": ".py",
   "mimetype": "text/x-python",
   "name": "python",
   "nbconvert_exporter": "python",
   "pygments_lexer": "ipython3",
   "version": "3.8.5"
  }
 },
 "nbformat": 4,
 "nbformat_minor": 4
}
