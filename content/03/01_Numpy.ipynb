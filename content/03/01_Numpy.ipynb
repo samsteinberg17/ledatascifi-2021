{
 "cells": [
  {
   "cell_type": "markdown",
   "metadata": {},
   "source": [
    "# Numpy\n",
    "\n",
    "We start this module of class by covering `numpy`, because \n",
    "1. `pandas` is built on top of `numpy`, so `numpy` is useful \n",
    "2. `numpy` has many math functions python doesn't have built-in\n",
    "3. `numpy` exists to speed up calculations\n",
    "4. If you're working with matrices, numpy is the go-to  python library\n",
    "\n"
   ]
  }
 ],
 "metadata": {
  "kernelspec": {
   "display_name": "Python 3",
   "language": "python",
   "name": "python3"
  },
  "language_info": {
   "codemirror_mode": {
    "name": "ipython",
    "version": 3
   },
   "file_extension": ".py",
   "mimetype": "text/x-python",
   "name": "python",
   "nbconvert_exporter": "python",
   "pygments_lexer": "ipython3",
   "version": "3.8.5"
  }
 },
 "nbformat": 4,
 "nbformat_minor": 4
}
