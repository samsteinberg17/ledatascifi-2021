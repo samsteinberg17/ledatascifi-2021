{
 "cells": [
  {
   "cell_type": "markdown",
   "metadata": {},
   "source": [
    "# Data Wrangling and Exploration\n",
    "\n"
   ]
  },
  {
   "cell_type": "markdown",
   "metadata": {},
   "source": [
    "Now that we have our programming environment set up, experience writing Python in Jupyter, using version control with GitHub (Desktop), and some [Golden Rules](../01/04_Golden_Rules.html) to guide us...\n",
    "\n",
    "***It’s time to science stuff.***\n",
    "\n",
    "![](https://media.giphy.com/media/26xBI73gWquCBBCDe/giphy.gif)\n",
    "\n",
    "We are going to cover \n",
    "- wrangling data (load, clean, alter) with `numpy` and `pandas`\n",
    "- data visualization with `seaborn` and, when necessary, `matplotlib`\n",
    "- how to merge data ( _safely!_ )\n",
    "\n",
    "and introduce you to some seriously high powered finance datasets. What is data science without _**BIIIIG DATA**_?\n"
   ]
  }
 ],
 "metadata": {
  "kernelspec": {
   "display_name": "Python 3",
   "language": "python",
   "name": "python3"
  },
  "language_info": {
   "codemirror_mode": {
    "name": "ipython",
    "version": 3
   },
   "file_extension": ".py",
   "mimetype": "text/x-python",
   "name": "python",
   "nbconvert_exporter": "python",
   "pygments_lexer": "ipython3",
   "version": "3.8.5"
  }
 },
 "nbformat": 4,
 "nbformat_minor": 4
}
