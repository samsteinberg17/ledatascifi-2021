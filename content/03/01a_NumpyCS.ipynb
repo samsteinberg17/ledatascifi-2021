{
 "cells": [
  {
   "cell_type": "markdown",
   "metadata": {},
   "source": [
    "# Numpy, Python, and Scientific Computing\n",
    "\n",
    "This page covers two things you'll want to think about in the background as we develop code:\n",
    "1. Memory (your computer's)\n",
    "1. SPEED\n",
    "\n",
    "```{admonition} Main takeaways\n",
    ":class: tip\n",
    "1. Numpy deals with numeric operations on large arrays quickly so we should learn it\n",
    "2. Don't overly stress about having \"fast\" code. Your time matters more than your computer's runtime.\n",
    "3. Age-old wisdom: Premature profiling (maximizing code speed) is the root of all evil. \n",
    "```"
   ]
  },
  {
   "cell_type": "markdown",
   "metadata": {},
   "source": [
    " <p style=\"font-size:2em\">The issue of memory </p> \n",
    "\n",
    "**MY MAIN POINT HERE:** The files we deal with will get larger as the class moves forward. Typically, a file on the computer hard drive takes up _twice_ as much space in memory (RAM). \n",
    "\n",
    "```{warning}\n",
    "_**Be mindful of that and don't load a file that will exceed your computer's available RAM!**_ \n",
    "\n",
    "Example: If the file is 4GB and your computer only has 6GB of memory, the file will max out your computer\n",
    "```\n",
    "\n",
    "Large file sizes will require us to develop workarounds, both in terms of how they are loaded and used, and how they are shared. We will deal with these later. If you run into issues with memory constraints before we cover it more formally, elevate the issue to me before/during/after class, your TA and me during office hours, and the GitHub discussion repo. "
   ]
  },
  {
   "cell_type": "markdown",
   "metadata": {},
   "source": [
    "<p style=\"font-size:2em\">The issue of speed </p> \n",
    "\n",
    "\n",
    "Python's biggest strength is the manner in which we write its code. We write plain statements like \n",
    "```\n",
    "for state in states: \n",
    "    print(capitol(state))\n",
    "```\n",
    "This makes it easy and fast to write and debug code. \n",
    "\n",
    "We don't explicitly write many particulars that the computer needs to know to execute code (e.g. what type is this variable, what operations should I call for that type, how much memory do I allocate for this process?). \n",
    "\n",
    "This is why Python is a \"high level\" language - it is written at a level far from the computer's language (binary). \n",
    "\n",
    "So python is flexible, but that flexibility can make it slow. \n",
    "\n",
    "<p style=\"font-size:2em\">The issue of speed </p> \n",
    "\n",
    "<p style=\"font-size:1.75em\">Your time is more valuable than your computer's </p> \n",
    "\n",
    "```{tip}\n",
    "A GREAT RULE OF THUMB: `total user time = programming time + executing time`\n",
    "```\n",
    "\n",
    "- Python tends to minimize `programming time` relative to other languages. \n",
    "- Executing time is, to an approximation, free: Start executing slow code and go see a movie, sleep through the night, or whatever! There is nothing better than having fun and being able to simultaneously claim \"you're working\".\n",
    "- Usually, your code is slow because of one or only a few lines of code. If the code **must** be speed up, we can identify the culprit, and apply one of a few fixes.\n",
    "\n",
    "<p style=\"font-size:1.75em\"> Illustrating why python _can_ be slow </p>\n",
    "\n",
    "An example that shows why Python is slow is the following:"
   ]
  },
  {
   "cell_type": "code",
   "execution_count": 1,
   "metadata": {},
   "outputs": [
    {
     "name": "stdout",
     "output_type": "stream",
     "text": [
      "17\n",
      "py is good\n"
     ]
    }
   ],
   "source": [
    "import numpy as np   # this is how we load numpy, and \"np\" is\n",
    "import random        # just a convenient abbrev convention\n",
    "\n",
    "# a \"+\" sign isn't just a plus sign\n",
    "a,b=3, 14\n",
    "print(a+b)\n",
    "a,b=\"py \",\"is good\"\n",
    "print(a+b)"
   ]
  },
  {
   "cell_type": "markdown",
   "metadata": {},
   "source": [
    "The \"+\" operator saw numbers and added, but then it saw strings and concatenated. \n",
    "\n",
    "Python handled that like a pro! \n",
    "\n",
    "**Q:** How did it do that? \n",
    "\n",
    "**A:** The python interpreter in each line checked the objects the \"+\" was operating on and applied the correct method! \n",
    "\n",
    "However, checking objects before every operation involves considerable work: \n",
    "- If you want to add 10 numbers, that's 9 addition operations, plus each time the code checks both objects involved, which is another 18 operations. So it took 27 steps to add 10 numbers. \n",
    "- Languages like FORTRAN and C are compiled, and users have to declare that all 10 numbers are numbers, so C code just plows ahead and is done in 9 steps. \n",
    "- It is even worse than that, because in C, the next number in an array is always the same distance from the prior number (in terms of its physical location in memory). Meanwhile, in Python, the program can't quite assume the next number is the same distance away. These \"look ups\" can cause huge delays.\n",
    "\n",
    "So here is an example: Let's pull random numbers and square them:"
   ]
  },
  {
   "cell_type": "code",
   "execution_count": 2,
   "metadata": {},
   "outputs": [
    {
     "name": "stdout",
     "output_type": "stream",
     "text": [
      "Wall time: 520 ms\n"
     ]
    }
   ],
   "source": [
    "%%time\n",
    "\n",
    "y = 0     \n",
    "for i in range(1000000):\n",
    "    x = random.uniform(0, 1)\n",
    "    y += x**2"
   ]
  },
  {
   "cell_type": "markdown",
   "metadata": {},
   "source": [
    "Oye, that seems slow!\n",
    "\n",
    "![](https://media.giphy.com/media/26AHLNr8en8J3ovOo/giphy.gif)\n",
    "\n",
    "We haven't earned that high five yet, Ghostrider. \n",
    "\n",
    "### The speed solution\n",
    "\n",
    "**Vectorization.** Send commands on arrays to the computer pre-compiled, with efficient native machine code. \n",
    "\n",
    "Let's redo the code above:"
   ]
  },
  {
   "cell_type": "code",
   "execution_count": 3,
   "metadata": {},
   "outputs": [
    {
     "name": "stdout",
     "output_type": "stream",
     "text": [
      "Wall time: 11 ms\n"
     ]
    }
   ],
   "source": [
    "%%time\n",
    "\n",
    "x = np.random.uniform(0, 1, 1000000)\n",
    "y = np.sum(x**2)"
   ]
  },
  {
   "cell_type": "markdown",
   "metadata": {},
   "source": [
    "Bam! That is muuuuuch faster. I think we earned that five...\n",
    "\n",
    "![](https://media.giphy.com/media/26AHCgWcYM1xSqMaA/giphy.gif)\n",
    "\n",
    "### Why did that work?\n",
    "\n",
    "- In the slow version, we effectively sent the computer 3m commands: draw a number, square it, then add to prior. \n",
    "- In the fast version, we sent those 3m commands embedded into just 3 array commands: draw an array of numbers, square all the elements of the array, sum the array. The array functions are optimized to use native machine code and don't have to check each element for type. \n",
    "\n",
    "**Verdict: arrays and vectorization are great\\*! And in Python, we implement them using `numpy`.** \n",
    "\n",
    "### Does this talk of vectorization confuse you?\n",
    "\n",
    "That's ok! This isn't a computer science class! Here are the takeaways of this page:\n",
    "\n",
    "## The takeaways:\n",
    "\n",
    "```{admonition} Main takeaways\n",
    ":class: tip\n",
    "1. Numpy deals with numeric operations on large arrays quickly so we should learn it\n",
    "2. Don't overly stress about having \"fast\" code. Your time matters more than your computer's runtime.\n",
    "3. Age-old wisdom: Premature profiling (maximizing code speed) is the root of all evil. \n",
    "```\n",
    "\n",
    "Ok, with that covered...\n",
    "\n",
    "So let's learn some `numpy`!"
   ]
  }
 ],
 "metadata": {
  "kernelspec": {
   "display_name": "Python 3",
   "language": "python",
   "name": "python3"
  },
  "language_info": {
   "codemirror_mode": {
    "name": "ipython",
    "version": 3
   },
   "file_extension": ".py",
   "mimetype": "text/x-python",
   "name": "python",
   "nbconvert_exporter": "python",
   "pygments_lexer": "ipython3",
   "version": "3.8.5"
  }
 },
 "nbformat": 4,
 "nbformat_minor": 4
}
