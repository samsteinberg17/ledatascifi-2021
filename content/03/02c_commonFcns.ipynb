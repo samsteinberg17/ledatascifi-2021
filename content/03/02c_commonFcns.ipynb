{
 "cells": [
  {
   "cell_type": "markdown",
   "metadata": {},
   "source": [
    "# Common Functions/Methods\n",
    "\n",
    "```{note}\n",
    "Some `pandas` methods work **on** a dataframe, like `df.assign(feet=df['height']//12)`. These are methods that are altering a dataframe, and you use them like this: `<dfname>.<method>(<arguments>)`\n",
    "\n",
    "Some `pandas` methods are a called on the pandas module itself (e.g. `pd.merge`). These are methods that are doing tasks outside a dataframe (like loading or merging datasets), and you use them like this: `pd.<method>(<arguments>)`\n",
    "\n",
    "```\n",
    "\n",
    "\n"
   ]
  },
  {
   "cell_type": "markdown",
   "metadata": {},
   "source": [
    "```{dropdown} Loading and saving data \n",
    "\n",
    "| Function                          | Pandas method       | Example  (see official syntax for more)                             |\n",
    "|:-----------------------------------|:---------------------|:-----------------------------------------------------------------------|\n",
    "| loading data | read_csv, read_dta, etc | `pd.read_csv('wine.csv')` |\n",
    "| saving data | to_csv, to_dta, etc | `pd.to_csv('wine.csv')` |\n",
    "\n",
    "```\n",
    "\n",
    "```{dropdown} Manipulating data ⭐\n",
    "\n",
    "Remember: replace `df` below with the name of the dataframe you're working on!\n",
    "\n",
    "| Function                          | Pandas method       | Example  (see official syntax for more)                             |\n",
    "|:-----------------------------------|:---------------------|:-----------------------------------------------------------------------|\n",
    "| new variables or replace existing | assign              | `df.assign(feet=df['height']//12)`                                    |\n",
    "| filter or get subset of observations  <br> or, \"drop rows\"      | ⭐ query /  loc / iloc | `df.query('height > 68')`    <br> `df.loc[df['gender']=='F']`   <br> `df.iloc[1:]`                                      |\n",
    "| get subset of columns             | filter              | `df.filter(['height','weight'])`                                      |\n",
    "| rename columns                    | rename              | `df.rename(columns={\"height\": \"how tall\"})`                 |\n",
    "| sort                              | sort_values         | `df.sort_values(['gender','weight'])`                                   |\n",
    "| do an operation on groups of observations                     | groupby ⭐             | `df.groupby(['gender'])` , see [common tasks](02g_commontasks) for more. But if you think \"I'd like to do a \"for-loop\" on this dataframe... the answer is _usually_ groupby          |\n",
    "| summary stats           | agg / pivot_table              | `df.agg({'height':[max,min,np.mean]})` <br> <br> `df.pivot_table(index='age', columns='age', values='weight')`  |\n",
    "| summary stats on groups           | agg / pivot_table              | `df.groupby(['gender'])` <br> `.agg({'height':[max,min,np.mean]})` <br> <br> `df.pivot_table(index='age', columns='age', values='weight'`  |\n",
    "| create a variable based on its group | agg+transform |  `df.groupby(['industry','year'])['leverage'].mean().transform()` <br> will add industry average leverage to your dataset for each firm |\n",
    "| delete column                     | drop                 | `df.drop(columns=['gender'])`                                                      |\n",
    "| use non-pd function on df         | pipe                | `df.pipe((sns.lineplot,data),x=x,y=y)`                                |\n",
    "| combine dataframes |\tmerge\t| `pd.merge(df1,df2)` |\n",
    "| **RESHAPE:** convert wide to long/tall (\"stack!\") | stack | `df.stack()`, see [common tasks](02g_commontasks) |\n",
    "| ... another option to reshape tall: | melt | `melt` is a special case of `stack` |\n",
    "| **RESHAPE:** convert long/tall to wide (\"unstack!\") | unstack | `df.unstack()`, see [common tasks](02g_commontasks) |\n",
    "| ... another option to reshape wide: | pivot / pivot_table | `pivot_table` is a special case of `unstack` |\n",
    "| change time frequency of data | resample | `df.resample('Y').mean()` |\n",
    "| window/rolling calculations | window | `df['vol_5yr']= df.groupby('firm').rolling(36).var('ret').transform()` will add 36 period volatility for each firm |\n",
    "\n",
    "```"
   ]
  },
  {
   "cell_type": "markdown",
   "metadata": {},
   "source": [
    "```{dropdown}  Statistical operations\n",
    "\n",
    "1. These functions can be called for a variable \"col1\" in this form: `<dfname>['col1'].<function>()` or for all numerical columns at once using `<dfname>.<function>()`.\n",
    "2. These functions work within groups. ⭐\n",
    "\n",
    "| Function     | Description                         |\n",
    "|--------------|-------------------------------------|\n",
    "| count        | Number of non-null observations     |\n",
    "| sum          | Sum of values                       |\n",
    "| mean         | Mean of values                      |\n",
    "| mad          | Mean absolute deviation             |\n",
    "| median       | Arithmetic median of values         |\n",
    "| min          | Minimum                             |\n",
    "| max          | Maximum                             |\n",
    "| mode         | Mode                                |\n",
    "| abs          | Absolute Value                      |\n",
    "| prod         | Product of values                   |\n",
    "| std          | Unbiased standard deviation         |\n",
    "| var          | Unbiased variance                   |\n",
    "| sem          | Unbiased standard error of the mean |\n",
    "| skew         | Unbiased skewness (3rd moment)      |\n",
    "| kurt         | Unbiased kurtosis (4th moment)      |\n",
    "| quantile     | Sample quantile (value at %)        |\n",
    "| cumsum       | Cumulative sum                      |\n",
    "| cumprod      | Cumulative product                  |\n",
    "| cummax       | Cumulative maximum                  |\n",
    "| cummin       | Cumulative minimum                  |\n",
    "| nunique      | How many unique values?             |\n",
    "| value_counts | How many of each unique value are there?   |\n",
    "\n",
    "```"
   ]
  }
 ],
 "metadata": {
  "kernelspec": {
   "display_name": "Python 3",
   "language": "python",
   "name": "python3"
  },
  "language_info": {
   "codemirror_mode": {
    "name": "ipython",
    "version": 3
   },
   "file_extension": ".py",
   "mimetype": "text/x-python",
   "name": "python",
   "nbconvert_exporter": "python",
   "pygments_lexer": "ipython3",
   "version": "3.8.5"
  }
 },
 "nbformat": 4,
 "nbformat_minor": 4
}
